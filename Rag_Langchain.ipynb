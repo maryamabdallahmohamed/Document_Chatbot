{
 "cells": [
  {
   "cell_type": "markdown",
   "id": "74de1692",
   "metadata": {},
   "source": [
    "## Imports"
   ]
  },
  {
   "cell_type": "code",
   "execution_count": 1,
   "id": "0d16bf56",
   "metadata": {},
   "outputs": [
    {
     "name": "stderr",
     "output_type": "stream",
     "text": [
      "/Users/maryamsaad/Library/Python/3.9/lib/python/site-packages/urllib3/__init__.py:35: NotOpenSSLWarning: urllib3 v2 only supports OpenSSL 1.1.1+, currently the 'ssl' module is compiled with 'LibreSSL 2.8.3'. See: https://github.com/urllib3/urllib3/issues/3020\n",
      "  warnings.warn(\n"
     ]
    }
   ],
   "source": [
    "import json\n",
    "import pandas as pd\n",
    "import re\n",
    "import torch\n",
    "from langchain.text_splitter import RecursiveCharacterTextSplitter\n",
    "from langchain_huggingface import HuggingFaceEmbeddings\n",
    "from langchain.llms import Ollama\n",
    "from langchain.vectorstores import FAISS\n",
    "from langchain.schema import Document\n",
    "from langchain.prompts import PromptTemplate\n",
    "from langchain_core.runnables import RunnablePassthrough\n",
    "from langchain_core.output_parsers import StrOutputParser\n",
    "import numpy as np\n",
    "import faiss\n",
    "from langchain.docstore import InMemoryDocstore\n",
    "\n",
    "from langchain_community.vectorstores import FAISS"
   ]
  },
  {
   "cell_type": "markdown",
   "id": "d85f8a20",
   "metadata": {},
   "source": [
    "## RAG Pipeline with LangChain"
   ]
  },
  {
   "cell_type": "code",
   "execution_count": 13,
   "id": "68271414",
   "metadata": {},
   "outputs": [],
   "source": [
    "class LangChainRAGPipeline:\n",
    "    def __init__(self):\n",
    "\n",
    "        self.text_splitter = None\n",
    "        self.embeddings = None\n",
    "        self.LLM_Model = 'qwen3:8b'\n",
    "        self.vectorstore = None\n",
    "        self.qa_chain = None\n",
    "        self.top_k = 5\n",
    "        self.normalize_embeddings = True\n",
    "        self.device = 'mps' if torch.backends.mps.is_available() else 'cuda' if torch.cuda.is_available() else 'cpu'\n",
    "        self.text_splitter = RecursiveCharacterTextSplitter(\n",
    "            chunk_size=200,\n",
    "            chunk_overlap=30, length_function=lambda x: len(x.split()),\n",
    "            separators=[\"\\n\\n\\n\", \"\\n\\n\", \"\\n\", \". \", \"! \", \"? \", \"; \", \", \", \" \", \"\"],\n",
    "            keep_separator=False,\n",
    "            add_start_index=True,\n",
    "            strip_whitespace=True\n",
    "        )\n",
    "        self.embeddings = HuggingFaceEmbeddings( model_name=\"sentence-transformers/paraphrase-multilingual-MiniLM-L12-v2\", model_kwargs={'device': self.device},\n",
    "            cache_folder='embedder_model_cache', encode_kwargs={'normalize_embeddings': self.normalize_embeddings}\n",
    "        )\n",
    "        self.LLM_Model = Ollama( model=self.LLM_Model, temperature=0.3, num_ctx=4096)\n",
    "\n",
    "\n",
    "\n",
    "    def load_and_preprocess_data(self, file_paths):\n",
    "        combined_texts = []\n",
    "        \"\"\"Load and preprocess data from multiple JSON files.\"\"\"\n",
    "        for file_path in file_paths:\n",
    "            \"\"\"Load JSON lines data and create a single LangChain Document with cleaned content.\"\"\"\n",
    "            with open(file_path, 'r') as f:\n",
    "                raw_data = json.load(f)\n",
    "\n",
    "            clean_texts = [self._clean_text(entry) for entry in raw_data if isinstance(entry, str)]\n",
    "\n",
    "            # Join all cleaned text into a single document\n",
    "            combined_text = \"\\n\".join(clean_texts)\n",
    "            combined_texts.append(combined_text)\n",
    "        # Create LangChain Documents\n",
    "        documents = [Document(page_content=text) for text in combined_texts if text.strip()]\n",
    "        return documents\n",
    "\n",
    "\n",
    "         \n",
    "        \n",
    "    \n",
    "\n",
    "    def _batch_embed(self, texts, batch_size=64):\n",
    "        embeddings = []\n",
    "        for i in range(0, len(texts), batch_size):\n",
    "            batch = texts[i:i + batch_size]\n",
    "            batch_embeddings = self.embeddings.embed_documents(batch)\n",
    "            embeddings.extend(batch_embeddings)\n",
    "        return np.array(embeddings, dtype=np.float32)\n",
    "\n",
    "    \n",
    "    \n",
    "    def _clean_text(self, text):\n",
    "        \"\"\"Clean text data\"\"\"\n",
    "        text = str(text)\n",
    "        text = re.sub(r'\\n{3,}', '\\n\\n', text)\n",
    "        text = re.sub(r'\\s+', ' ', text)\n",
    "        return text.strip()\n",
    "    \n",
    "    \n",
    "    def create_vectorstore(self, documents, save_path=None):\n",
    "        \"\"\"Create and optionally save FAISS vectorstore with cosine similarity\"\"\"\n",
    "        chunks = self.text_splitter.split_documents(documents)\n",
    "        print(f\"Created {len(chunks)} chunks\")\n",
    "\n",
    "        # Get embeddings for all chunks\n",
    "        texts = [chunk.page_content for chunk in chunks]\n",
    "        embeddings_matrix = self._batch_embed(texts, batch_size=128)\n",
    "        \n",
    "\n",
    "        # Create FAISS index with Inner Product (which equals cosine similarity for normalized vectors)\n",
    "        dimension = embeddings_matrix.shape[1]\n",
    "        index = faiss.IndexFlatIP(dimension)\n",
    "        index.add(embeddings_matrix)\n",
    "\n",
    "        \n",
    "\n",
    "        # Create docstore and index mapping more efficiently\n",
    "        docstore = InMemoryDocstore({str(i): chunk for i, chunk in enumerate(chunks)})\n",
    "        index_to_docstore_id = {i: str(i) for i in range(len(chunks))}\n",
    "        \n",
    "        # Create FAISS vectorstore\n",
    "        self.vectorstore = FAISS(\n",
    "            embedding_function=self.embeddings,\n",
    "            index=index,\n",
    "            docstore=docstore,\n",
    "            index_to_docstore_id=index_to_docstore_id\n",
    "        )\n",
    "        \n",
    "        if save_path:\n",
    "            self.vectorstore.save_local(save_path)\n",
    "            print(f\"Vectorstore saved to {save_path}\")\n",
    "        \n",
    "        return self.vectorstore\n",
    "\n",
    "    \n",
    "    def load_vectorstore(self, load_path):\n",
    "        \"\"\"Load existing vectorstore\"\"\"\n",
    "        self.vectorstore = FAISS.load_local(load_path, self.embeddings)\n",
    "        print(f\"Vectorstore loaded from {load_path}\")\n",
    "        return self.vectorstore\n",
    "    \n",
    "    \n",
    "    def setup_qa_chain(self):\n",
    "        \"\"\"Setup QA chain with custom prompts\"\"\"\n",
    "        retriever = self.vectorstore.as_retriever(\n",
    "            search_type=\"similarity\",\n",
    "            search_kwargs={\"k\": self.top_k}\n",
    "        )\n",
    "        \n",
    "        print(\"RETRIEVER is :\", retriever)\n",
    "        prompt_template = \"\"\"You are a helpful assistant. Analyze the context and provide a structured response.\n",
    "\n",
    "                Context:\n",
    "                {context}\n",
    "\n",
    "                Question: {question}\n",
    "\n",
    "                Please provide your response in exactly this format:\n",
    "\n",
    "                RESPONSE:\n",
    "                [Your direct, concise answer to the question]\n",
    "\n",
    "                REASONING:\n",
    "                [Brief explanation of how you arrived at this answer using the sources]\n",
    "\n",
    "                SOURCES:\n",
    "                [List the source numbers that support your answer, e.g., 1, 2, 3]\n",
    "\n",
    "                Important: Do not include any <think> tags or internal reasoning. Be direct and concise.\"\"\"\n",
    "\n",
    "        PROMPT = PromptTemplate(\n",
    "                template=prompt_template,\n",
    "                input_variables=[\"context\", \"question\"]\n",
    "            )\n",
    "            \n",
    "        self.qa_chain = (\n",
    "                {\n",
    "                    \"context\": retriever | self._format_docs,\n",
    "                    \"question\": RunnablePassthrough()\n",
    "                }\n",
    "                | PROMPT\n",
    "                | self.LLM_Model\n",
    "                | StrOutputParser()\n",
    "            )\n",
    "        \n",
    "        return self.qa_chain\n",
    "    \n",
    "\n",
    "\n",
    "    def _format_docs(self, docs):\n",
    "        \"\"\"Format documents for context\"\"\"\n",
    "        formatted = \"\"\n",
    "        for i, doc in enumerate(docs, 1):\n",
    "            formatted += f\"[Source {i}]: {doc.page_content}\\n\\n\"\n",
    "        return formatted\n",
    "    \n",
    "\n",
    "    \n",
    "    def ask_question(self, question, return_sources=True):\n",
    "        \"\"\"Ask a question and get structured response\"\"\"\n",
    "        if not self.qa_chain:\n",
    "            raise ValueError(\"QA chain not initialized. Call setup_qa_chain() first.\")\n",
    "        response = self.qa_chain.invoke(question)\n",
    "        parsed_response = self._parse_structured_response(response)\n",
    "        \n",
    "        if return_sources:\n",
    "            retriever = self.vectorstore.as_retriever(\n",
    "                search_type=\"similarity\",\n",
    "                search_kwargs={\"k\": self.top_k}\n",
    "            )\n",
    "            source_docs = retriever.get_relevant_documents(question)\n",
    "            parsed_response['source_documents'] = source_docs\n",
    "            parsed_response['source_texts'] = [doc.page_content for doc in source_docs]\n",
    "        \n",
    "        return parsed_response\n",
    "    \n",
    "    \n",
    "\n",
    "    def _parse_structured_response(self, response_text):\n",
    "        \"\"\"Parse the structured response\"\"\"\n",
    "        cleaned_response = re.sub(r'<think>.*?</think>', '', response_text, flags=re.DOTALL)\n",
    "        cleaned_response = re.sub(r'<[^>]+>', '', cleaned_response)\n",
    "        cleaned_response = re.sub(r'\\n\\s*\\n', '\\n\\n', cleaned_response.strip())\n",
    "        \n",
    "        sections = {'response': '', 'reasoning': '', 'sources': ''}\n",
    "        current_section = None\n",
    "        current_content = []\n",
    "        \n",
    "        lines = cleaned_response.split('\\n')\n",
    "        \n",
    "        for line in lines:\n",
    "            line = line.strip()\n",
    "            \n",
    "            if line.upper().startswith('RESPONSE:'):\n",
    "                if current_section:\n",
    "                    sections[current_section] = '\\n'.join(current_content).strip()\n",
    "                current_section = 'response'\n",
    "                current_content = [line[9:].strip()]\n",
    "                \n",
    "            elif line.upper().startswith('REASONING:'):\n",
    "                if current_section:\n",
    "                    sections[current_section] = '\\n'.join(current_content).strip()\n",
    "                current_section = 'reasoning'\n",
    "                current_content = [line[10:].strip()]\n",
    "                \n",
    "            elif line.upper().startswith('SOURCES:'):\n",
    "                if current_section:\n",
    "                    sections[current_section] = '\\n'.join(current_content).strip()\n",
    "                current_section = 'sources'\n",
    "                current_content = [line[8:].strip()]\n",
    "                \n",
    "            elif current_section and line:\n",
    "                current_content.append(line)\n",
    "        \n",
    "        if current_section:\n",
    "            sections[current_section] = '\\n'.join(current_content).strip()\n",
    "        \n",
    "        source_ids = []\n",
    "        if sections['sources']:\n",
    "            source_text = sections['sources']\n",
    "            source_ids = [int(x) for x in re.findall(r'\\d+', source_text)]\n",
    "        \n",
    "        return {\n",
    "            'answer': sections['response'],\n",
    "            'reasoning': sections['reasoning'],\n",
    "            'sources': source_ids,\n",
    "            'raw_response': cleaned_response\n",
    "        }\n",
    "    \n",
    "    def similarity_search_with_score(self, query, k=None):\n",
    "        \"\"\"Perform similarity search with scores (now properly cosine similarity)\"\"\"\n",
    "        if not self.vectorstore:\n",
    "            raise ValueError(\"Vectorstore not initialized.\")\n",
    "        \n",
    "        k = k or self.top_k\n",
    "        results = self.vectorstore.similarity_search_with_score(query, k=k)\n",
    "    \n",
    "        print(f\"Similarity scores for query '{query}':\")\n",
    "        for i, (doc, score) in enumerate(results):\n",
    "            print(f\"  Result {i+1}: Score = {score:.4f}\")\n",
    "            \n",
    "        return results"
   ]
  },
  {
   "cell_type": "code",
   "execution_count": 22,
   "id": "f6625056",
   "metadata": {},
   "outputs": [
    {
     "name": "stdout",
     "output_type": "stream",
     "text": [
      "Created 70 chunks\n",
      "Vectorstore saved to vectorstore\n",
      "RETRIEVER is : tags=['FAISS', 'HuggingFaceEmbeddings'] vectorstore=<langchain_community.vectorstores.faiss.FAISS object at 0x386799190> search_kwargs={'k': 5}\n"
     ]
    }
   ],
   "source": [
    "pipeline = LangChainRAGPipeline()\n",
    "documents = pipeline.load_and_preprocess_data([\"Market Research Report_extracted_text.json\",'PMS Market Research_extracted_text.json'])\n",
    "vectorstore = pipeline.create_vectorstore(documents, save_path=\"vectorstore\")\n",
    "qa_chain = pipeline.setup_qa_chain()\n",
    "\n"
   ]
  },
  {
   "cell_type": "code",
   "execution_count": 16,
   "id": "50333d34",
   "metadata": {},
   "outputs": [
    {
     "data": {
      "text/plain": [
       "{'answer': 'Role-based assignments, flexible approval workflows, financial oversight, reporting, notifications, and project archiving.',\n",
       " 'reasoning': 'The sources emphasize the importance of role-based task assignment (Source 1), automated approval workflows with hierarchies and rules (Sources 1, 4, 5), financial oversight (Sources 1, 5), customizable reporting (Sources 2, 5), real-time notifications (Sources 2, 5), and project archiving (Source 2). These features are critical for streamlining processes, ensuring accountability, and maintaining project transparency.',\n",
       " 'sources': [1, 2, 4, 5],\n",
       " 'raw_response': 'RESPONSE:  \\nRole-based assignments, flexible approval workflows, financial oversight, reporting, notifications, and project archiving.  \\n\\nREASONING:  \\nThe sources emphasize the importance of role-based task assignment (Source 1), automated approval workflows with hierarchies and rules (Sources 1, 4, 5), financial oversight (Sources 1, 5), customizable reporting (Sources 2, 5), real-time notifications (Sources 2, 5), and project archiving (Source 2). These features are critical for streamlining processes, ensuring accountability, and maintaining project transparency.  \\n\\nSOURCES:  \\n1, 2, 4, 5',\n",
       " 'source_documents': [Document(metadata={'start_index': 25195}, page_content='Key Benefits & Features: • Role -Based Assignments: You define who does what. Whether it’s the Project Manager approving budgets or the Cost Controller reviewing change requests, each task is automatically sent to the right person. • Flexible Process Design: Build your workflow exactly as your team works it —sequencing steps like Budget Approval, Change Order Review, and Invoice Processing, inserting decision points for “approve” or “reject,” and even allowing parallel reviews when multiple stakeholders need to weigh in. • Smart Approval Rules: Tie approvals to financial thresholds and organizational hierarchies so that small expenses breeze through quickly, while larger commitments rise to senior leadership for sign -off. • Approval hierarchies: PMWeb’s approval hierarchies ensure that every document or subm ission follows a clear, pre -defined review path. Once a user uploads a file and clicks “Save,” the system automatically routes it to the next approver in the chain. If any reviewer rejects the file, PMWeb sends it back to the previous stage for correction, maintaining a strict sequence and eliminating confusion over who’s responsible for each step.'),\n",
       "  Document(metadata={'start_index': 2644}, page_content='10. Reporting The ability to generate custom or out -of-the-box reports (tabular or graphical) on any aspect of the project —submittal s tatus, budget forecast vs. actual, RFI turnaround times, document register summaries, etc. 11. Notifications Automated alerts —via email, in -app pop -ups, or mobile push —that let users know when something needs their attention (new assignment, status change, overdue task). 12. Project Archiving A method to archive completed projects (or individual items) so that active workspaces stay clean, while all files, workflows, and histories are preserved in a read -only state for future reference . Platforms to be explored: 1- Monday.com 2- Wrike 3- PMweb 4- Aconex 5- Procore 1- Monday.com Monday.com is a chameleon -like work OS that adapts to nearly any process you throw at it . Structurally, you organize your account into five levels: Workspaces (typically your company or department), Boards (each a discrete project), Groups (milestones or phases), Items (tasks or deliverables), and Subitems (granular to -dos under each task). O nce your board exists, you pick from dozens of column types —status, date, numbers, files, and even custom formulas —to tailor exactly what data you capture'),\n",
       "  Document(metadata={'start_index': 0}, page_content='MARKET RESEARCH REPORT ON PROJECT MANAGEMENT SYSTEMS Benchmarking Tools for Document Control, Approvals, and Team Collaboration in PV proje cts. Mahi nour Mohammad Abstract This report explores existing project management systems to identify gaps and opportunities for developing a platform tailored to photovoltaic (PV) projects.'),\n",
       "  Document(metadata={'start_index': 19653}, page_content='Construction -Focused PMS s: Havi ng explored versatile, general -purpose tools like Monday.com and Wrike, it’s clear that while they offer tremendous flexibility, they often require heavy customization to meet the nuanced needs of construction projects. Now, let’s shift our focus to purpose -built, construction -centric platforms — PMWeb, Aconex, and Procore. These solutions come with industry -tailored modules out of the box (think robust contract management, formal transmittals, and site -driven workflows), so you can hit the gro und ru nning without reinventing core processes . 3- PMWeb PMW eb is a purpose -built, cloud -based Project Lifecycle Management platform crafted specifically for capital construction projects —government infrastructure, large facilities, and expansive EPC endeavors. Acting as the “central brain” of your project, PMWeb u nifies budgets, contracts, schedules, RFIs, submittals, and close -out activities under one roof. Its intuitive interface and modular architecture keep data organized, approvals automated, and teams aligned from kickoff through final handover'),\n",
       "  Document(metadata={'start_index': 45210}, page_content='To synthesize these findings, a feature matrix has been developed that quantifies how well each platform supports a core set of functionalities —from role assignment and approval workflows to bid management, markup tools, notific ations, and financial oversight. The matrix not only highlights individual platform strengths but also helps identify potential gaps and overlaps. Feature Monday.com Wrike PMWeb Aconex Procore 1. Assigning roles 10% 85% 80% 80% 80% 2. Document approval workflow 60% 100% 100% 100% 100% 3. Versioning 100% 100% 100% 100% 100% 4. Markup versions 50% 100% 0% 90% 100% 5. Auto -changing status after submittals 60% 75% 100% 80% 100% 6. Financial oversight 20% 20% 100% 90% 90% 7. Bids management 0% 0% 80% 80% +100% 8. Document management system (DMS) 0% 0% 80% 100% 80% 9. Dashboards 100% 100% 50% 80% 100% 10. Reporting 80% 90% 100% 100% 100% 11. Notifications 80% 90% 100% 100% 100% 12. Project archiving 30% 100% 100% 100% 70%')],\n",
       " 'source_texts': ['Key Benefits & Features: • Role -Based Assignments: You define who does what. Whether it’s the Project Manager approving budgets or the Cost Controller reviewing change requests, each task is automatically sent to the right person. • Flexible Process Design: Build your workflow exactly as your team works it —sequencing steps like Budget Approval, Change Order Review, and Invoice Processing, inserting decision points for “approve” or “reject,” and even allowing parallel reviews when multiple stakeholders need to weigh in. • Smart Approval Rules: Tie approvals to financial thresholds and organizational hierarchies so that small expenses breeze through quickly, while larger commitments rise to senior leadership for sign -off. • Approval hierarchies: PMWeb’s approval hierarchies ensure that every document or subm ission follows a clear, pre -defined review path. Once a user uploads a file and clicks “Save,” the system automatically routes it to the next approver in the chain. If any reviewer rejects the file, PMWeb sends it back to the previous stage for correction, maintaining a strict sequence and eliminating confusion over who’s responsible for each step.',\n",
       "  '10. Reporting The ability to generate custom or out -of-the-box reports (tabular or graphical) on any aspect of the project —submittal s tatus, budget forecast vs. actual, RFI turnaround times, document register summaries, etc. 11. Notifications Automated alerts —via email, in -app pop -ups, or mobile push —that let users know when something needs their attention (new assignment, status change, overdue task). 12. Project Archiving A method to archive completed projects (or individual items) so that active workspaces stay clean, while all files, workflows, and histories are preserved in a read -only state for future reference . Platforms to be explored: 1- Monday.com 2- Wrike 3- PMweb 4- Aconex 5- Procore 1- Monday.com Monday.com is a chameleon -like work OS that adapts to nearly any process you throw at it . Structurally, you organize your account into five levels: Workspaces (typically your company or department), Boards (each a discrete project), Groups (milestones or phases), Items (tasks or deliverables), and Subitems (granular to -dos under each task). O nce your board exists, you pick from dozens of column types —status, date, numbers, files, and even custom formulas —to tailor exactly what data you capture',\n",
       "  'MARKET RESEARCH REPORT ON PROJECT MANAGEMENT SYSTEMS Benchmarking Tools for Document Control, Approvals, and Team Collaboration in PV proje cts. Mahi nour Mohammad Abstract This report explores existing project management systems to identify gaps and opportunities for developing a platform tailored to photovoltaic (PV) projects.',\n",
       "  'Construction -Focused PMS s: Havi ng explored versatile, general -purpose tools like Monday.com and Wrike, it’s clear that while they offer tremendous flexibility, they often require heavy customization to meet the nuanced needs of construction projects. Now, let’s shift our focus to purpose -built, construction -centric platforms — PMWeb, Aconex, and Procore. These solutions come with industry -tailored modules out of the box (think robust contract management, formal transmittals, and site -driven workflows), so you can hit the gro und ru nning without reinventing core processes . 3- PMWeb PMW eb is a purpose -built, cloud -based Project Lifecycle Management platform crafted specifically for capital construction projects —government infrastructure, large facilities, and expansive EPC endeavors. Acting as the “central brain” of your project, PMWeb u nifies budgets, contracts, schedules, RFIs, submittals, and close -out activities under one roof. Its intuitive interface and modular architecture keep data organized, approvals automated, and teams aligned from kickoff through final handover',\n",
       "  'To synthesize these findings, a feature matrix has been developed that quantifies how well each platform supports a core set of functionalities —from role assignment and approval workflows to bid management, markup tools, notific ations, and financial oversight. The matrix not only highlights individual platform strengths but also helps identify potential gaps and overlaps. Feature Monday.com Wrike PMWeb Aconex Procore 1. Assigning roles 10% 85% 80% 80% 80% 2. Document approval workflow 60% 100% 100% 100% 100% 3. Versioning 100% 100% 100% 100% 100% 4. Markup versions 50% 100% 0% 90% 100% 5. Auto -changing status after submittals 60% 75% 100% 80% 100% 6. Financial oversight 20% 20% 100% 90% 90% 7. Bids management 0% 0% 80% 80% +100% 8. Document management system (DMS) 0% 0% 80% 100% 80% 9. Dashboards 100% 100% 50% 80% 100% 10. Reporting 80% 90% 100% 100% 100% 11. Notifications 80% 90% 100% 100% 100% 12. Project archiving 30% 100% 100% 100% 70%']}"
      ]
     },
     "execution_count": 16,
     "metadata": {},
     "output_type": "execute_result"
    }
   ],
   "source": [
    "result"
   ]
  },
  {
   "cell_type": "code",
   "execution_count": 23,
   "id": "80b922a2",
   "metadata": {},
   "outputs": [
    {
     "name": "stdout",
     "output_type": "stream",
     "text": [
      "Similarity scores for query 'What are the recommended features to be added to the project?':\n",
      "  Result 1: Score = 0.5638\n",
      "  Result 2: Score = 0.5156\n",
      "  Result 3: Score = 0.5065\n",
      "  Result 4: Score = 0.5023\n",
      "  Result 5: Score = 0.4954\n"
     ]
    },
    {
     "data": {
      "text/plain": [
       "[(Document(metadata={'start_index': 25195}, page_content='Key Benefits & Features: • Role -Based Assignments: You define who does what. Whether it’s the Project Manager approving budgets or the Cost Controller reviewing change requests, each task is automatically sent to the right person. • Flexible Process Design: Build your workflow exactly as your team works it —sequencing steps like Budget Approval, Change Order Review, and Invoice Processing, inserting decision points for “approve” or “reject,” and even allowing parallel reviews when multiple stakeholders need to weigh in. • Smart Approval Rules: Tie approvals to financial thresholds and organizational hierarchies so that small expenses breeze through quickly, while larger commitments rise to senior leadership for sign -off. • Approval hierarchies: PMWeb’s approval hierarchies ensure that every document or subm ission follows a clear, pre -defined review path. Once a user uploads a file and clicks “Save,” the system automatically routes it to the next approver in the chain. If any reviewer rejects the file, PMWeb sends it back to the previous stage for correction, maintaining a strict sequence and eliminating confusion over who’s responsible for each step.'),\n",
       "  0.56375647),\n",
       " (Document(metadata={'start_index': 2644}, page_content='10. Reporting The ability to generate custom or out -of-the-box reports (tabular or graphical) on any aspect of the project —submittal s tatus, budget forecast vs. actual, RFI turnaround times, document register summaries, etc. 11. Notifications Automated alerts —via email, in -app pop -ups, or mobile push —that let users know when something needs their attention (new assignment, status change, overdue task). 12. Project Archiving A method to archive completed projects (or individual items) so that active workspaces stay clean, while all files, workflows, and histories are preserved in a read -only state for future reference . Platforms to be explored: 1- Monday.com 2- Wrike 3- PMweb 4- Aconex 5- Procore 1- Monday.com Monday.com is a chameleon -like work OS that adapts to nearly any process you throw at it . Structurally, you organize your account into five levels: Workspaces (typically your company or department), Boards (each a discrete project), Groups (milestones or phases), Items (tasks or deliverables), and Subitems (granular to -dos under each task). O nce your board exists, you pick from dozens of column types —status, date, numbers, files, and even custom formulas —to tailor exactly what data you capture'),\n",
       "  0.51560134),\n",
       " (Document(metadata={'start_index': 0}, page_content='MARKET RESEARCH REPORT ON PROJECT MANAGEMENT SYSTEMS Benchmarking Tools for Document Control, Approvals, and Team Collaboration in PV proje cts. Mahi nour Mohammad Abstract This report explores existing project management systems to identify gaps and opportunities for developing a platform tailored to photovoltaic (PV) projects.'),\n",
       "  0.5064832),\n",
       " (Document(metadata={'start_index': 19653}, page_content='Construction -Focused PMS s: Havi ng explored versatile, general -purpose tools like Monday.com and Wrike, it’s clear that while they offer tremendous flexibility, they often require heavy customization to meet the nuanced needs of construction projects. Now, let’s shift our focus to purpose -built, construction -centric platforms — PMWeb, Aconex, and Procore. These solutions come with industry -tailored modules out of the box (think robust contract management, formal transmittals, and site -driven workflows), so you can hit the gro und ru nning without reinventing core processes . 3- PMWeb PMW eb is a purpose -built, cloud -based Project Lifecycle Management platform crafted specifically for capital construction projects —government infrastructure, large facilities, and expansive EPC endeavors. Acting as the “central brain” of your project, PMWeb u nifies budgets, contracts, schedules, RFIs, submittals, and close -out activities under one roof. Its intuitive interface and modular architecture keep data organized, approvals automated, and teams aligned from kickoff through final handover'),\n",
       "  0.50232947),\n",
       " (Document(metadata={'start_index': 45210}, page_content='To synthesize these findings, a feature matrix has been developed that quantifies how well each platform supports a core set of functionalities —from role assignment and approval workflows to bid management, markup tools, notific ations, and financial oversight. The matrix not only highlights individual platform strengths but also helps identify potential gaps and overlaps. Feature Monday.com Wrike PMWeb Aconex Procore 1. Assigning roles 10% 85% 80% 80% 80% 2. Document approval workflow 60% 100% 100% 100% 100% 3. Versioning 100% 100% 100% 100% 100% 4. Markup versions 50% 100% 0% 90% 100% 5. Auto -changing status after submittals 60% 75% 100% 80% 100% 6. Financial oversight 20% 20% 100% 90% 90% 7. Bids management 0% 0% 80% 80% +100% 8. Document management system (DMS) 0% 0% 80% 100% 80% 9. Dashboards 100% 100% 50% 80% 100% 10. Reporting 80% 90% 100% 100% 100% 11. Notifications 80% 90% 100% 100% 100% 12. Project archiving 30% 100% 100% 100% 70%'),\n",
       "  0.49537832)]"
      ]
     },
     "execution_count": 23,
     "metadata": {},
     "output_type": "execute_result"
    }
   ],
   "source": [
    "pipeline.similarity_search_with_score(\"What are the recommended features to be added to the project?\", k=5)"
   ]
  },
  {
   "cell_type": "code",
   "execution_count": 18,
   "id": "fb24d517",
   "metadata": {},
   "outputs": [
    {
     "data": {
      "text/plain": [
       "{'answer': 'Doctranslate.io',\n",
       " 'reasoning': 'Sources 1, 3, and 5 explicitly mention Doctranslate.io\\'s pricing model based on translation credits (e.g., \"50 translation credit,\" \"120 translation credits,\" and \"4000 credits/year\"). Other tools like Doclingo use character limits or file-based pricing, not credit systems.',\n",
       " 'sources': [1, 3, 5],\n",
       " 'raw_response': 'RESPONSE:  \\nDoctranslate.io  \\n\\nREASONING:  \\nSources 1, 3, and 5 explicitly mention Doctranslate.io\\'s pricing model based on translation credits (e.g., \"50 translation credit,\" \"120 translation credits,\" and \"4000 credits/year\"). Other tools like Doclingo use character limits or file-based pricing, not credit systems.  \\n\\nSOURCES:  \\n1, 3, 5',\n",
       " 'source_documents': [Document(metadata={'start_index': 8069}, page_content='Pricing Plans for Paid Tool s Tool Plan Name Cost Key Features Benefits Notes Doctranslate.io Topup -50 $4.99 50 translation credit • 10 cent/ page . • Credit expiration : permanent . • Perfect for quick, one -time needs. 1image/PDF page (A page is estimated to have 200 words): Costs 02 credits Topup -120 $9.99 120 translation credits Topup -260 $19.99 260 translation credits Topup -750 $49.99 750 translation credits Personal Subscription $199 4000 credits/year • ~6 cent/ page . • Credit expiration : 1 year . • Best usage for frequent, individual use. Team Subscription $999 25000 credits/ye ar • 4 cent/ page . • Credit expiration : 1 year / 3month . • Best value for high -volume translations. $99 2000 credits/ 3 month DeepL Pro Starter ~$8.74/user/month (Paid annually ) Up to 5 users • 5 files/month . • 5 editable file translations per user/month in tota l. • Upload files up to 10 MB • Tone /informal tone is available . Pro Advanced $28.74/user/ month (Paid annually ) For individuals & teams • 20 files/month . • 5 editable file translations per user/month in tota l'),\n",
       "  Document(metadata={'start_index': -1}, page_content='Pro Advanced $28.74/user/ month (Paid annually ) For individuals & teams • 20 files/month . • 5 editable file translations per user/month in tota l. • Upload files up to 20 MB . • Tone /informal tone is available . Pro Ultimate $57.49 /user/ month (Paid annually ) For individuals & teams • 20 files/month . • 5 editable file translations per user/month in tota l. • Upload files up to 20 MB . • Tone /informal tone is available . Doclingo Premium 7-Day $2.29/7 -Day • 250,000 chars. Monthly limit. • No daily limit . • No number of tra ns. Limit. • File size: 500 MB . • Trans. Engine : ChatGPT/Gemini /Deepseek/Claude . Premium + 7- Day $2.99/7-Day • 500,000 chars. Monthly limit • No daily limit . • No number of tra ns. Limit. • File size: 500 MB . • Trans. Engine : ChatGPT/Gemini /Deepseek/Claude . Premium 30- Day $7.59/M • 1M chars. Monthly limit. • No daily limit . • No number of tra ns. Limit. • File size: 500 MB . • Trans. Engine : ChatGPT/Gemini /Deepseek/Claude'),\n",
       "  Document(metadata={'start_index': 11470}, page_content='TranslaDocs • Cons: o No OCR support . o No Arabic language support . SmallPDF • Cons: o No OCR support . Doclingo • Pros: o Supports OCR . o Good performance for Arabic to English scanned documents . • Cons: o Fails with complex image tables . o Does not preserve RTL when translating from English to Arabic . DeepL • Pros: o Excellent performance for English OCR . • Cons: o Does not support Arabic OCR. Translated documents can be found here : DeepL Summary of Findings: The tools demonstrated varied performance across key criteria. Some excelled in specific areas, such as translation accuracy or affordability, while others lagged in advanced features like robust language support or seamless integration with existing workf lows. Pricing models also ranged widely, catering to different user segments from cost -conscious individuals to enterprises requiring premium functionalities.'),\n",
       "  Document(metadata={'start_index': 0}, page_content='MARKET RESEARCH REPORT: ANALYSIS OF DOCUMENT TRANSLATION TOOLS Evaluating Leading Solutions for Multilingual Document Translation Mah inour Mohammad'),\n",
       "  Document(metadata={'start_index': 10335}, page_content='Detailed Findings Doctranslator • Pros: o Free of charge . o Preserves layout effectively for English to Arabic translations, particularly tables . o Handles RTL/LTR directions well . • Cons: o No OCR support . o Poor handling of mixed Arabic/English lines . o Table layout breaks when translating from Arabic to English . Translated files can be found here: DocTrasnlator Doctranslate.io • Pros: o Offers OCR capabilities (slow and image -based) . • Cons: o Poor layout preservation, especially for tables . o Does not translate Arabic n umerals . o Inadequate handling of RTL/LTR mix . o Processing time: 1 –3 minutes . Translated files can be found here: doctransla.io Premium + 30- Day $88.9/M • 2M chars. Monthly limit. • No daily limit . • No number of tra ns. Limit. • File size: 500 MB . • Trans. Engine : ChatGPT/Gemini /Deepseek/Claude . Quota recharges $1.99 100000 chars . • 2M chars. Monthly limit. • No daily limit . • No number of tra ns. Limit. • File size: 500 MB . • Trans. Engine : ChatGPT/Gemini /Deepseek/Claude . $2.99 200000 chars . $7.99 500000 chars')],\n",
       " 'source_texts': ['Pricing Plans for Paid Tool s Tool Plan Name Cost Key Features Benefits Notes Doctranslate.io Topup -50 $4.99 50 translation credit • 10 cent/ page . • Credit expiration : permanent . • Perfect for quick, one -time needs. 1image/PDF page (A page is estimated to have 200 words): Costs 02 credits Topup -120 $9.99 120 translation credits Topup -260 $19.99 260 translation credits Topup -750 $49.99 750 translation credits Personal Subscription $199 4000 credits/year • ~6 cent/ page . • Credit expiration : 1 year . • Best usage for frequent, individual use. Team Subscription $999 25000 credits/ye ar • 4 cent/ page . • Credit expiration : 1 year / 3month . • Best value for high -volume translations. $99 2000 credits/ 3 month DeepL Pro Starter ~$8.74/user/month (Paid annually ) Up to 5 users • 5 files/month . • 5 editable file translations per user/month in tota l. • Upload files up to 10 MB • Tone /informal tone is available . Pro Advanced $28.74/user/ month (Paid annually ) For individuals & teams • 20 files/month . • 5 editable file translations per user/month in tota l',\n",
       "  'Pro Advanced $28.74/user/ month (Paid annually ) For individuals & teams • 20 files/month . • 5 editable file translations per user/month in tota l. • Upload files up to 20 MB . • Tone /informal tone is available . Pro Ultimate $57.49 /user/ month (Paid annually ) For individuals & teams • 20 files/month . • 5 editable file translations per user/month in tota l. • Upload files up to 20 MB . • Tone /informal tone is available . Doclingo Premium 7-Day $2.29/7 -Day • 250,000 chars. Monthly limit. • No daily limit . • No number of tra ns. Limit. • File size: 500 MB . • Trans. Engine : ChatGPT/Gemini /Deepseek/Claude . Premium + 7- Day $2.99/7-Day • 500,000 chars. Monthly limit • No daily limit . • No number of tra ns. Limit. • File size: 500 MB . • Trans. Engine : ChatGPT/Gemini /Deepseek/Claude . Premium 30- Day $7.59/M • 1M chars. Monthly limit. • No daily limit . • No number of tra ns. Limit. • File size: 500 MB . • Trans. Engine : ChatGPT/Gemini /Deepseek/Claude',\n",
       "  'TranslaDocs • Cons: o No OCR support . o No Arabic language support . SmallPDF • Cons: o No OCR support . Doclingo • Pros: o Supports OCR . o Good performance for Arabic to English scanned documents . • Cons: o Fails with complex image tables . o Does not preserve RTL when translating from English to Arabic . DeepL • Pros: o Excellent performance for English OCR . • Cons: o Does not support Arabic OCR. Translated documents can be found here : DeepL Summary of Findings: The tools demonstrated varied performance across key criteria. Some excelled in specific areas, such as translation accuracy or affordability, while others lagged in advanced features like robust language support or seamless integration with existing workf lows. Pricing models also ranged widely, catering to different user segments from cost -conscious individuals to enterprises requiring premium functionalities.',\n",
       "  'MARKET RESEARCH REPORT: ANALYSIS OF DOCUMENT TRANSLATION TOOLS Evaluating Leading Solutions for Multilingual Document Translation Mah inour Mohammad',\n",
       "  'Detailed Findings Doctranslator • Pros: o Free of charge . o Preserves layout effectively for English to Arabic translations, particularly tables . o Handles RTL/LTR directions well . • Cons: o No OCR support . o Poor handling of mixed Arabic/English lines . o Table layout breaks when translating from Arabic to English . Translated files can be found here: DocTrasnlator Doctranslate.io • Pros: o Offers OCR capabilities (slow and image -based) . • Cons: o Poor layout preservation, especially for tables . o Does not translate Arabic n umerals . o Inadequate handling of RTL/LTR mix . o Processing time: 1 –3 minutes . Translated files can be found here: doctransla.io Premium + 30- Day $88.9/M • 2M chars. Monthly limit. • No daily limit . • No number of tra ns. Limit. • File size: 500 MB . • Trans. Engine : ChatGPT/Gemini /Deepseek/Claude . Quota recharges $1.99 100000 chars . • 2M chars. Monthly limit. • No daily limit . • No number of tra ns. Limit. • File size: 500 MB . • Trans. Engine : ChatGPT/Gemini /Deepseek/Claude . $2.99 200000 chars . $7.99 500000 chars']}"
      ]
     },
     "execution_count": 18,
     "metadata": {},
     "output_type": "execute_result"
    }
   ],
   "source": [
    "pipeline.ask_question(\"Which translator charges users with credits?\")"
   ]
  },
  {
   "cell_type": "code",
   "execution_count": 24,
   "id": "d5c3ac15",
   "metadata": {},
   "outputs": [
    {
     "data": {
      "text/plain": [
       "{'answer': 'PMWeb as the core platform, supplemented by Procore for submittal automation and AI-driven workflows, and Aconex for structured document control and communication, would be most effective.',\n",
       " 'reasoning': 'PMWeb provides comprehensive construction-specific modules (contracts, workflows, financial integration) and role-based task management (Sources 1, 2, 5). Procore enhances submittal and drawing management (Source 3), while Aconex excels in formal transmittals and document control (Source 3, 4). Together, they cover core needs, though cost implications include higher licensing and integration complexity. Critical gaps include limited low-code automation (Source 4) and task management refinements, requiring custom development or third-party tools.',\n",
       " 'sources': [1, 2, 3, 4, 5],\n",
       " 'raw_response': 'RESPONSE:  \\nPMWeb as the core platform, supplemented by Procore for submittal automation and AI-driven workflows, and Aconex for structured document control and communication, would be most effective.  \\n\\nREASONING:  \\nPMWeb provides comprehensive construction-specific modules (contracts, workflows, financial integration) and role-based task management (Sources 1, 2, 5). Procore enhances submittal and drawing management (Source 3), while Aconex excels in formal transmittals and document control (Source 3, 4). Together, they cover core needs, though cost implications include higher licensing and integration complexity. Critical gaps include limited low-code automation (Source 4) and task management refinements, requiring custom development or third-party tools.  \\n\\nSOURCES:  \\n1, 2, 3, 4, 5',\n",
       " 'source_documents': [Document(metadata={'start_index': 19653}, page_content='Construction -Focused PMS s: Havi ng explored versatile, general -purpose tools like Monday.com and Wrike, it’s clear that while they offer tremendous flexibility, they often require heavy customization to meet the nuanced needs of construction projects. Now, let’s shift our focus to purpose -built, construction -centric platforms — PMWeb, Aconex, and Procore. These solutions come with industry -tailored modules out of the box (think robust contract management, formal transmittals, and site -driven workflows), so you can hit the gro und ru nning without reinventing core processes . 3- PMWeb PMW eb is a purpose -built, cloud -based Project Lifecycle Management platform crafted specifically for capital construction projects —government infrastructure, large facilities, and expansive EPC endeavors. Acting as the “central brain” of your project, PMWeb u nifies budgets, contracts, schedules, RFIs, submittals, and close -out activities under one roof. Its intuitive interface and modular architecture keep data organized, approvals automated, and teams aligned from kickoff through final handover'),\n",
       "  Document(metadata={'start_index': 25195}, page_content='Key Benefits & Features: • Role -Based Assignments: You define who does what. Whether it’s the Project Manager approving budgets or the Cost Controller reviewing change requests, each task is automatically sent to the right person. • Flexible Process Design: Build your workflow exactly as your team works it —sequencing steps like Budget Approval, Change Order Review, and Invoice Processing, inserting decision points for “approve” or “reject,” and even allowing parallel reviews when multiple stakeholders need to weigh in. • Smart Approval Rules: Tie approvals to financial thresholds and organizational hierarchies so that small expenses breeze through quickly, while larger commitments rise to senior leadership for sign -off. • Approval hierarchies: PMWeb’s approval hierarchies ensure that every document or subm ission follows a clear, pre -defined review path. Once a user uploads a file and clicks “Save,” the system automatically routes it to the next approver in the chain. If any reviewer rejects the file, PMWeb sends it back to the previous stage for correction, maintaining a strict sequence and eliminating confusion over who’s responsible for each step.'),\n",
       "  Document(metadata={'start_index': -1}, page_content='In short, these are more like monitoring or asset management tools , not project management systems. They don’t offer: • Workflow approvals • Version control • Submittal coordination • Role -based task assignment • Dashboards for tracking deadlin es and project progress Which are all essential for managing complex engineering or construction projects. Conclusion This comparative analysis of Monday.com, Wrike, PMWeb, Aconex, and Procore reveals a diverse landscape of project management platforms, each with its own strengths, trade -offs, and degrees of specialization for the construction industry. Monday.com and Wrike , while initially designed as general -purpose project management tools, offer intuitive interfaces, flexible dashboards, and excellent task tracking capabilities. However, they fall short on advanced construction -specific workflows such as submittal tracking, formal transmittals, or OCR -based document processing. In contrast, PMWeb, Aconex, and Procore are built with the complexities of construction in mind. Procore stands out for its rich construction -focused toolkit, including automated submittals, AI - powered drawing management, and integrated bid handling. Aconex excels in st ructured communication, transmittals, and formal document control, making it a go -to choice for large -scale infrastructure projects'),\n",
       "  Document(metadata={'start_index': 35719}, page_content='Cons: 1- No low -code automations beyond core mo dules 2- No contract features . 3- Limited Task Management Capabilities 4- Outdated Design . Evaluating Aconex: Feature Supported? Assigning roles ✅ Yes (even across organizations) Document approval workflow ✅Yes Versioning ✅Yes Markup versions ✅Yes Auto changing status after submittals No statuses n eeded Financial oversight ✅Yes (Through the Connected Cost ) Bids management ✅Yes (fully automated through Tenders & Bids module ) Document management system ✅Yes (using Document Register ) Dashboards ✅ Yes (Dashboard Widgets and KPI views ) Reporting ✅Yes Notifications ✅Yes Project archiving ✅Yes'),\n",
       "  Document(metadata={'start_index': 23537}, page_content='• Top Level : The entire project and its total budget. • Lower Levels : Phases, disciplines, tasks, and sub -tasks, each with its own cost line. This hierarchical setup lets you drill down into granular figures or roll them up into a consolidated view —perfect for both high -level summaries and detailed audits. • Financial System Integration PMWeb doesn’t operate in a silo. You can map each CBS code directly to your organization’s account ing or ERP codes, ensuring that project costs flow seamlessly into your corporate financial systems. This alignment eliminates duplicate data entry, cuts down on errors, and reinforces consistent reporting across platforms. 2.2. Contract and Commitment Ma nagement In any capital project, the relationship between the owner, consultant, and contractor rests on clear, enforceable agreements —and PMWeb’s Contract and Commitment Management module ensures those agreements are tracked and controlled from start to f inish. A prime contract sits at the heart of that relationship')],\n",
       " 'source_texts': ['Construction -Focused PMS s: Havi ng explored versatile, general -purpose tools like Monday.com and Wrike, it’s clear that while they offer tremendous flexibility, they often require heavy customization to meet the nuanced needs of construction projects. Now, let’s shift our focus to purpose -built, construction -centric platforms — PMWeb, Aconex, and Procore. These solutions come with industry -tailored modules out of the box (think robust contract management, formal transmittals, and site -driven workflows), so you can hit the gro und ru nning without reinventing core processes . 3- PMWeb PMW eb is a purpose -built, cloud -based Project Lifecycle Management platform crafted specifically for capital construction projects —government infrastructure, large facilities, and expansive EPC endeavors. Acting as the “central brain” of your project, PMWeb u nifies budgets, contracts, schedules, RFIs, submittals, and close -out activities under one roof. Its intuitive interface and modular architecture keep data organized, approvals automated, and teams aligned from kickoff through final handover',\n",
       "  'Key Benefits & Features: • Role -Based Assignments: You define who does what. Whether it’s the Project Manager approving budgets or the Cost Controller reviewing change requests, each task is automatically sent to the right person. • Flexible Process Design: Build your workflow exactly as your team works it —sequencing steps like Budget Approval, Change Order Review, and Invoice Processing, inserting decision points for “approve” or “reject,” and even allowing parallel reviews when multiple stakeholders need to weigh in. • Smart Approval Rules: Tie approvals to financial thresholds and organizational hierarchies so that small expenses breeze through quickly, while larger commitments rise to senior leadership for sign -off. • Approval hierarchies: PMWeb’s approval hierarchies ensure that every document or subm ission follows a clear, pre -defined review path. Once a user uploads a file and clicks “Save,” the system automatically routes it to the next approver in the chain. If any reviewer rejects the file, PMWeb sends it back to the previous stage for correction, maintaining a strict sequence and eliminating confusion over who’s responsible for each step.',\n",
       "  'In short, these are more like monitoring or asset management tools , not project management systems. They don’t offer: • Workflow approvals • Version control • Submittal coordination • Role -based task assignment • Dashboards for tracking deadlin es and project progress Which are all essential for managing complex engineering or construction projects. Conclusion This comparative analysis of Monday.com, Wrike, PMWeb, Aconex, and Procore reveals a diverse landscape of project management platforms, each with its own strengths, trade -offs, and degrees of specialization for the construction industry. Monday.com and Wrike , while initially designed as general -purpose project management tools, offer intuitive interfaces, flexible dashboards, and excellent task tracking capabilities. However, they fall short on advanced construction -specific workflows such as submittal tracking, formal transmittals, or OCR -based document processing. In contrast, PMWeb, Aconex, and Procore are built with the complexities of construction in mind. Procore stands out for its rich construction -focused toolkit, including automated submittals, AI - powered drawing management, and integrated bid handling. Aconex excels in st ructured communication, transmittals, and formal document control, making it a go -to choice for large -scale infrastructure projects',\n",
       "  'Cons: 1- No low -code automations beyond core mo dules 2- No contract features . 3- Limited Task Management Capabilities 4- Outdated Design . Evaluating Aconex: Feature Supported? Assigning roles ✅ Yes (even across organizations) Document approval workflow ✅Yes Versioning ✅Yes Markup versions ✅Yes Auto changing status after submittals No statuses n eeded Financial oversight ✅Yes (Through the Connected Cost ) Bids management ✅Yes (fully automated through Tenders & Bids module ) Document management system ✅Yes (using Document Register ) Dashboards ✅ Yes (Dashboard Widgets and KPI views ) Reporting ✅Yes Notifications ✅Yes Project archiving ✅Yes',\n",
       "  '• Top Level : The entire project and its total budget. • Lower Levels : Phases, disciplines, tasks, and sub -tasks, each with its own cost line. This hierarchical setup lets you drill down into granular figures or roll them up into a consolidated view —perfect for both high -level summaries and detailed audits. • Financial System Integration PMWeb doesn’t operate in a silo. You can map each CBS code directly to your organization’s account ing or ERP codes, ensuring that project costs flow seamlessly into your corporate financial systems. This alignment eliminates duplicate data entry, cuts down on errors, and reinforces consistent reporting across platforms. 2.2. Contract and Commitment Ma nagement In any capital project, the relationship between the owner, consultant, and contractor rests on clear, enforceable agreements —and PMWeb’s Contract and Commitment Management module ensures those agreements are tracked and controlled from start to f inish. A prime contract sits at the heart of that relationship']}"
      ]
     },
     "execution_count": 24,
     "metadata": {},
     "output_type": "execute_result"
    }
   ],
   "source": [
    "pipeline.ask_question(\"Analyze which combination of tools would be most effective, \" \\\n",
    "\"justify the cost implications, and identify the critical gaps that would still need to \" \\\n",
    "\"be addressed through custom development or additional third-party integrations.\")"
   ]
  },
  {
   "cell_type": "code",
   "execution_count": 21,
   "id": "859635c1",
   "metadata": {},
   "outputs": [
    {
     "name": "stdout",
     "output_type": "stream",
     "text": [
      "Similarity scores for query 'Analyze which combination of tools would be most effective, justify the cost implications, and identify the critical gaps that would still need to be addressed through custom development or additional third-party integrations.':\n",
      "  Result 1: Score = 0.5535\n",
      "  Result 2: Score = 0.5176\n",
      "  Result 3: Score = 0.5102\n",
      "  Result 4: Score = 0.4828\n",
      "  Result 5: Score = 0.4781\n"
     ]
    },
    {
     "data": {
      "text/plain": [
       "[(Document(metadata={'start_index': 19653}, page_content='Construction -Focused PMS s: Havi ng explored versatile, general -purpose tools like Monday.com and Wrike, it’s clear that while they offer tremendous flexibility, they often require heavy customization to meet the nuanced needs of construction projects. Now, let’s shift our focus to purpose -built, construction -centric platforms — PMWeb, Aconex, and Procore. These solutions come with industry -tailored modules out of the box (think robust contract management, formal transmittals, and site -driven workflows), so you can hit the gro und ru nning without reinventing core processes . 3- PMWeb PMW eb is a purpose -built, cloud -based Project Lifecycle Management platform crafted specifically for capital construction projects —government infrastructure, large facilities, and expansive EPC endeavors. Acting as the “central brain” of your project, PMWeb u nifies budgets, contracts, schedules, RFIs, submittals, and close -out activities under one roof. Its intuitive interface and modular architecture keep data organized, approvals automated, and teams aligned from kickoff through final handover'),\n",
       "  0.55353296),\n",
       " (Document(metadata={'start_index': 25195}, page_content='Key Benefits & Features: • Role -Based Assignments: You define who does what. Whether it’s the Project Manager approving budgets or the Cost Controller reviewing change requests, each task is automatically sent to the right person. • Flexible Process Design: Build your workflow exactly as your team works it —sequencing steps like Budget Approval, Change Order Review, and Invoice Processing, inserting decision points for “approve” or “reject,” and even allowing parallel reviews when multiple stakeholders need to weigh in. • Smart Approval Rules: Tie approvals to financial thresholds and organizational hierarchies so that small expenses breeze through quickly, while larger commitments rise to senior leadership for sign -off. • Approval hierarchies: PMWeb’s approval hierarchies ensure that every document or subm ission follows a clear, pre -defined review path. Once a user uploads a file and clicks “Save,” the system automatically routes it to the next approver in the chain. If any reviewer rejects the file, PMWeb sends it back to the previous stage for correction, maintaining a strict sequence and eliminating confusion over who’s responsible for each step.'),\n",
       "  0.5176338),\n",
       " (Document(metadata={'start_index': -1}, page_content='In short, these are more like monitoring or asset management tools , not project management systems. They don’t offer: • Workflow approvals • Version control • Submittal coordination • Role -based task assignment • Dashboards for tracking deadlin es and project progress Which are all essential for managing complex engineering or construction projects. Conclusion This comparative analysis of Monday.com, Wrike, PMWeb, Aconex, and Procore reveals a diverse landscape of project management platforms, each with its own strengths, trade -offs, and degrees of specialization for the construction industry. Monday.com and Wrike , while initially designed as general -purpose project management tools, offer intuitive interfaces, flexible dashboards, and excellent task tracking capabilities. However, they fall short on advanced construction -specific workflows such as submittal tracking, formal transmittals, or OCR -based document processing. In contrast, PMWeb, Aconex, and Procore are built with the complexities of construction in mind. Procore stands out for its rich construction -focused toolkit, including automated submittals, AI - powered drawing management, and integrated bid handling. Aconex excels in st ructured communication, transmittals, and formal document control, making it a go -to choice for large -scale infrastructure projects'),\n",
       "  0.5101978),\n",
       " (Document(metadata={'start_index': 35719}, page_content='Cons: 1- No low -code automations beyond core mo dules 2- No contract features . 3- Limited Task Management Capabilities 4- Outdated Design . Evaluating Aconex: Feature Supported? Assigning roles ✅ Yes (even across organizations) Document approval workflow ✅Yes Versioning ✅Yes Markup versions ✅Yes Auto changing status after submittals No statuses n eeded Financial oversight ✅Yes (Through the Connected Cost ) Bids management ✅Yes (fully automated through Tenders & Bids module ) Document management system ✅Yes (using Document Register ) Dashboards ✅ Yes (Dashboard Widgets and KPI views ) Reporting ✅Yes Notifications ✅Yes Project archiving ✅Yes'),\n",
       "  0.48283058),\n",
       " (Document(metadata={'start_index': 23537}, page_content='• Top Level : The entire project and its total budget. • Lower Levels : Phases, disciplines, tasks, and sub -tasks, each with its own cost line. This hierarchical setup lets you drill down into granular figures or roll them up into a consolidated view —perfect for both high -level summaries and detailed audits. • Financial System Integration PMWeb doesn’t operate in a silo. You can map each CBS code directly to your organization’s account ing or ERP codes, ensuring that project costs flow seamlessly into your corporate financial systems. This alignment eliminates duplicate data entry, cuts down on errors, and reinforces consistent reporting across platforms. 2.2. Contract and Commitment Ma nagement In any capital project, the relationship between the owner, consultant, and contractor rests on clear, enforceable agreements —and PMWeb’s Contract and Commitment Management module ensures those agreements are tracked and controlled from start to f inish. A prime contract sits at the heart of that relationship'),\n",
       "  0.4781434)]"
      ]
     },
     "execution_count": 21,
     "metadata": {},
     "output_type": "execute_result"
    }
   ],
   "source": [
    "pipeline.similarity_search_with_score(\"Analyze which combination of tools would be most effective, \" \\\n",
    "\"justify the cost implications, and identify the critical gaps that would still need to \" \\\n",
    "\"be addressed through custom development or additional third-party integrations.\")"
   ]
  },
  {
   "cell_type": "code",
   "execution_count": 26,
   "id": "d7c87385",
   "metadata": {},
   "outputs": [],
   "source": [
    "answer=pipeline.ask_question(\" If you had to build a hybrid solution using two platforms from the research, which combination would you choose for a $50M solar project, \\\n",
    "                      and how would you handle the integration challenges, particularly around \\\n",
    "                      the 12 core features identified in the research?\")"
   ]
  },
  {
   "cell_type": "code",
   "execution_count": 31,
   "id": "ef75b221",
   "metadata": {},
   "outputs": [
    {
     "data": {
      "text/plain": [
       "{'answer': 'Choose PMWeb for project management workflows and Procore for construction-specific tools.',\n",
       " 'reasoning': 'PMWeb (Source 4) excels in role-based task assignment, approval hierarchies, and version control, aligning with the 12 core features (Sources 2, 5). Procore (Source 5) provides specialized construction workflows like submittal tracking and AI-driven drawing management, which are critical for large solar projects. Integration would use APIs to synchronize document approvals, versioning, and task assignments between platforms.',\n",
       " 'sources': [4, 5, 2],\n",
       " 'raw_response': 'RESPONSE:  \\nChoose PMWeb for project management workflows and Procore for construction-specific tools.  \\n\\nREASONING:  \\nPMWeb (Source 4) excels in role-based task assignment, approval hierarchies, and version control, aligning with the 12 core features (Sources 2, 5). Procore (Source 5) provides specialized construction workflows like submittal tracking and AI-driven drawing management, which are critical for large solar projects. Integration would use APIs to synchronize document approvals, versioning, and task assignments between platforms.  \\n\\nSOURCES:  \\n4, 5, 2',\n",
       " 'source_documents': [Document(metadata={'start_index': 42733}, page_content='Renewable and Solar -Focused Platforms During our research, we also explored platforms that are specifically designed for the renewable energy sector and others that are solar PV -focused . At first, they seemed promising because they’re built with energy systems in mind. However, after testing and reviewing them, we found that they don’t meet the type of project management needs we’re aiming for , although they market them selves as they have project management tools. Platforms like Ra Power Management (RaPM) , SenseHawk, and Payac a are examples of solar - focused systems. These tools are mainly designed for monitoring the performance of solar plants — such as tracking electricity production, system health, faults, and maintenance alerts. While they’re excellent for operations and post -installation monitoring , they do not support document approvals, workflows, submittals, or collaboration between stakeholde rs like contractors, consultants, and clients. In short, these are more like monitoring or asset management tools , not project management systems'),\n",
       "  Document(metadata={'start_index': 331}, page_content='In too many solar and construction projects, teams juggle emails, spreadsheets, and generic cloud folders just to get a simple drawing reviewed. The result? Lost versions, unanswered questions, and schedule hiccups. This report cuts through the chaos by co mparing five best -in-class platforms —two generalists and three construction -focused —against the 12 must -have features for any professional solar project management syste m. Key Features We’re Tracking 1. Assigning Roles The ability to designate specific users or groups (e.g., “Project Manager,” “Reviewer,” “Electrician Team”) to tasks, submittals, or documents —so everyone knows who’s responsible for what. 2. Document Approval Workflow A structured process that routes documents or deliverables through one or more review and approval steps (with defined approvers, due -dates, and status transitions) before they’re considered “approved.” 3. Versioning Keeping track of each time a file is updated or replaced, so you can see prior iterations (e.g., “Drawing Rev A,” “Rev B”) and roll back if n eeded. 4. Markup Versions The ability to annotate or mark up each version of a document or drawing —circling areas, adding comments, highlighting changes —often directly on the file itself. 5'),\n",
       "  Document(metadata={'start_index': 0}, page_content='MARKET RESEARCH REPORT ON PROJECT MANAGEMENT SYSTEMS Benchmarking Tools for Document Control, Approvals, and Team Collaboration in PV proje cts. Mahi nour Mohammad Abstract This report explores existing project management systems to identify gaps and opportunities for developing a platform tailored to photovoltaic (PV) projects.'),\n",
       "  Document(metadata={'start_index': 25195}, page_content='Key Benefits & Features: • Role -Based Assignments: You define who does what. Whether it’s the Project Manager approving budgets or the Cost Controller reviewing change requests, each task is automatically sent to the right person. • Flexible Process Design: Build your workflow exactly as your team works it —sequencing steps like Budget Approval, Change Order Review, and Invoice Processing, inserting decision points for “approve” or “reject,” and even allowing parallel reviews when multiple stakeholders need to weigh in. • Smart Approval Rules: Tie approvals to financial thresholds and organizational hierarchies so that small expenses breeze through quickly, while larger commitments rise to senior leadership for sign -off. • Approval hierarchies: PMWeb’s approval hierarchies ensure that every document or subm ission follows a clear, pre -defined review path. Once a user uploads a file and clicks “Save,” the system automatically routes it to the next approver in the chain. If any reviewer rejects the file, PMWeb sends it back to the previous stage for correction, maintaining a strict sequence and eliminating confusion over who’s responsible for each step.'),\n",
       "  Document(metadata={'start_index': -1}, page_content='In short, these are more like monitoring or asset management tools , not project management systems. They don’t offer: • Workflow approvals • Version control • Submittal coordination • Role -based task assignment • Dashboards for tracking deadlin es and project progress Which are all essential for managing complex engineering or construction projects. Conclusion This comparative analysis of Monday.com, Wrike, PMWeb, Aconex, and Procore reveals a diverse landscape of project management platforms, each with its own strengths, trade -offs, and degrees of specialization for the construction industry. Monday.com and Wrike , while initially designed as general -purpose project management tools, offer intuitive interfaces, flexible dashboards, and excellent task tracking capabilities. However, they fall short on advanced construction -specific workflows such as submittal tracking, formal transmittals, or OCR -based document processing. In contrast, PMWeb, Aconex, and Procore are built with the complexities of construction in mind. Procore stands out for its rich construction -focused toolkit, including automated submittals, AI - powered drawing management, and integrated bid handling. Aconex excels in st ructured communication, transmittals, and formal document control, making it a go -to choice for large -scale infrastructure projects')],\n",
       " 'source_texts': ['Renewable and Solar -Focused Platforms During our research, we also explored platforms that are specifically designed for the renewable energy sector and others that are solar PV -focused . At first, they seemed promising because they’re built with energy systems in mind. However, after testing and reviewing them, we found that they don’t meet the type of project management needs we’re aiming for , although they market them selves as they have project management tools. Platforms like Ra Power Management (RaPM) , SenseHawk, and Payac a are examples of solar - focused systems. These tools are mainly designed for monitoring the performance of solar plants — such as tracking electricity production, system health, faults, and maintenance alerts. While they’re excellent for operations and post -installation monitoring , they do not support document approvals, workflows, submittals, or collaboration between stakeholde rs like contractors, consultants, and clients. In short, these are more like monitoring or asset management tools , not project management systems',\n",
       "  'In too many solar and construction projects, teams juggle emails, spreadsheets, and generic cloud folders just to get a simple drawing reviewed. The result? Lost versions, unanswered questions, and schedule hiccups. This report cuts through the chaos by co mparing five best -in-class platforms —two generalists and three construction -focused —against the 12 must -have features for any professional solar project management syste m. Key Features We’re Tracking 1. Assigning Roles The ability to designate specific users or groups (e.g., “Project Manager,” “Reviewer,” “Electrician Team”) to tasks, submittals, or documents —so everyone knows who’s responsible for what. 2. Document Approval Workflow A structured process that routes documents or deliverables through one or more review and approval steps (with defined approvers, due -dates, and status transitions) before they’re considered “approved.” 3. Versioning Keeping track of each time a file is updated or replaced, so you can see prior iterations (e.g., “Drawing Rev A,” “Rev B”) and roll back if n eeded. 4. Markup Versions The ability to annotate or mark up each version of a document or drawing —circling areas, adding comments, highlighting changes —often directly on the file itself. 5',\n",
       "  'MARKET RESEARCH REPORT ON PROJECT MANAGEMENT SYSTEMS Benchmarking Tools for Document Control, Approvals, and Team Collaboration in PV proje cts. Mahi nour Mohammad Abstract This report explores existing project management systems to identify gaps and opportunities for developing a platform tailored to photovoltaic (PV) projects.',\n",
       "  'Key Benefits & Features: • Role -Based Assignments: You define who does what. Whether it’s the Project Manager approving budgets or the Cost Controller reviewing change requests, each task is automatically sent to the right person. • Flexible Process Design: Build your workflow exactly as your team works it —sequencing steps like Budget Approval, Change Order Review, and Invoice Processing, inserting decision points for “approve” or “reject,” and even allowing parallel reviews when multiple stakeholders need to weigh in. • Smart Approval Rules: Tie approvals to financial thresholds and organizational hierarchies so that small expenses breeze through quickly, while larger commitments rise to senior leadership for sign -off. • Approval hierarchies: PMWeb’s approval hierarchies ensure that every document or subm ission follows a clear, pre -defined review path. Once a user uploads a file and clicks “Save,” the system automatically routes it to the next approver in the chain. If any reviewer rejects the file, PMWeb sends it back to the previous stage for correction, maintaining a strict sequence and eliminating confusion over who’s responsible for each step.',\n",
       "  'In short, these are more like monitoring or asset management tools , not project management systems. They don’t offer: • Workflow approvals • Version control • Submittal coordination • Role -based task assignment • Dashboards for tracking deadlin es and project progress Which are all essential for managing complex engineering or construction projects. Conclusion This comparative analysis of Monday.com, Wrike, PMWeb, Aconex, and Procore reveals a diverse landscape of project management platforms, each with its own strengths, trade -offs, and degrees of specialization for the construction industry. Monday.com and Wrike , while initially designed as general -purpose project management tools, offer intuitive interfaces, flexible dashboards, and excellent task tracking capabilities. However, they fall short on advanced construction -specific workflows such as submittal tracking, formal transmittals, or OCR -based document processing. In contrast, PMWeb, Aconex, and Procore are built with the complexities of construction in mind. Procore stands out for its rich construction -focused toolkit, including automated submittals, AI - powered drawing management, and integrated bid handling. Aconex excels in st ructured communication, transmittals, and formal document control, making it a go -to choice for large -scale infrastructure projects']}"
      ]
     },
     "execution_count": 31,
     "metadata": {},
     "output_type": "execute_result"
    }
   ],
   "source": [
    "answer"
   ]
  },
  {
   "cell_type": "code",
   "execution_count": 25,
   "id": "11d5a848",
   "metadata": {},
   "outputs": [
    {
     "name": "stdout",
     "output_type": "stream",
     "text": [
      "Similarity scores for query ' If you had to build a hybrid solution using two platforms from the research, which combination would you choose for a $50M solar project,                       and how would you handle the integration challenges, particularly around                       the 12 core features identified in the research?':\n",
      "  Result 1: Score = 0.6337\n",
      "  Result 2: Score = 0.5184\n",
      "  Result 3: Score = 0.4492\n",
      "  Result 4: Score = 0.3677\n",
      "  Result 5: Score = 0.3497\n"
     ]
    },
    {
     "data": {
      "text/plain": [
       "[(Document(metadata={'start_index': 42733}, page_content='Renewable and Solar -Focused Platforms During our research, we also explored platforms that are specifically designed for the renewable energy sector and others that are solar PV -focused . At first, they seemed promising because they’re built with energy systems in mind. However, after testing and reviewing them, we found that they don’t meet the type of project management needs we’re aiming for , although they market them selves as they have project management tools. Platforms like Ra Power Management (RaPM) , SenseHawk, and Payac a are examples of solar - focused systems. These tools are mainly designed for monitoring the performance of solar plants — such as tracking electricity production, system health, faults, and maintenance alerts. While they’re excellent for operations and post -installation monitoring , they do not support document approvals, workflows, submittals, or collaboration between stakeholde rs like contractors, consultants, and clients. In short, these are more like monitoring or asset management tools , not project management systems'),\n",
       "  0.6337216),\n",
       " (Document(metadata={'start_index': 331}, page_content='In too many solar and construction projects, teams juggle emails, spreadsheets, and generic cloud folders just to get a simple drawing reviewed. The result? Lost versions, unanswered questions, and schedule hiccups. This report cuts through the chaos by co mparing five best -in-class platforms —two generalists and three construction -focused —against the 12 must -have features for any professional solar project management syste m. Key Features We’re Tracking 1. Assigning Roles The ability to designate specific users or groups (e.g., “Project Manager,” “Reviewer,” “Electrician Team”) to tasks, submittals, or documents —so everyone knows who’s responsible for what. 2. Document Approval Workflow A structured process that routes documents or deliverables through one or more review and approval steps (with defined approvers, due -dates, and status transitions) before they’re considered “approved.” 3. Versioning Keeping track of each time a file is updated or replaced, so you can see prior iterations (e.g., “Drawing Rev A,” “Rev B”) and roll back if n eeded. 4. Markup Versions The ability to annotate or mark up each version of a document or drawing —circling areas, adding comments, highlighting changes —often directly on the file itself. 5'),\n",
       "  0.51844126),\n",
       " (Document(metadata={'start_index': 0}, page_content='MARKET RESEARCH REPORT ON PROJECT MANAGEMENT SYSTEMS Benchmarking Tools for Document Control, Approvals, and Team Collaboration in PV proje cts. Mahi nour Mohammad Abstract This report explores existing project management systems to identify gaps and opportunities for developing a platform tailored to photovoltaic (PV) projects.'),\n",
       "  0.44918507),\n",
       " (Document(metadata={'start_index': 25195}, page_content='Key Benefits & Features: • Role -Based Assignments: You define who does what. Whether it’s the Project Manager approving budgets or the Cost Controller reviewing change requests, each task is automatically sent to the right person. • Flexible Process Design: Build your workflow exactly as your team works it —sequencing steps like Budget Approval, Change Order Review, and Invoice Processing, inserting decision points for “approve” or “reject,” and even allowing parallel reviews when multiple stakeholders need to weigh in. • Smart Approval Rules: Tie approvals to financial thresholds and organizational hierarchies so that small expenses breeze through quickly, while larger commitments rise to senior leadership for sign -off. • Approval hierarchies: PMWeb’s approval hierarchies ensure that every document or subm ission follows a clear, pre -defined review path. Once a user uploads a file and clicks “Save,” the system automatically routes it to the next approver in the chain. If any reviewer rejects the file, PMWeb sends it back to the previous stage for correction, maintaining a strict sequence and eliminating confusion over who’s responsible for each step.'),\n",
       "  0.36767077),\n",
       " (Document(metadata={'start_index': -1}, page_content='In short, these are more like monitoring or asset management tools , not project management systems. They don’t offer: • Workflow approvals • Version control • Submittal coordination • Role -based task assignment • Dashboards for tracking deadlin es and project progress Which are all essential for managing complex engineering or construction projects. Conclusion This comparative analysis of Monday.com, Wrike, PMWeb, Aconex, and Procore reveals a diverse landscape of project management platforms, each with its own strengths, trade -offs, and degrees of specialization for the construction industry. Monday.com and Wrike , while initially designed as general -purpose project management tools, offer intuitive interfaces, flexible dashboards, and excellent task tracking capabilities. However, they fall short on advanced construction -specific workflows such as submittal tracking, formal transmittals, or OCR -based document processing. In contrast, PMWeb, Aconex, and Procore are built with the complexities of construction in mind. Procore stands out for its rich construction -focused toolkit, including automated submittals, AI - powered drawing management, and integrated bid handling. Aconex excels in st ructured communication, transmittals, and formal document control, making it a go -to choice for large -scale infrastructure projects'),\n",
       "  0.34967136)]"
      ]
     },
     "execution_count": 25,
     "metadata": {},
     "output_type": "execute_result"
    }
   ],
   "source": [
    "pipeline.similarity_search_with_score(\" If you had to build a hybrid solution using two platforms from the research, which combination would you choose for a $50M solar project, \\\n",
    "                      and how would you handle the integration challenges, particularly around \\\n",
    "                      the 12 core features identified in the research?\")"
   ]
  },
  {
   "cell_type": "code",
   "execution_count": null,
   "id": "a6568108",
   "metadata": {},
   "outputs": [],
   "source": []
  },
  {
   "cell_type": "code",
   "execution_count": null,
   "id": "22521fa3",
   "metadata": {},
   "outputs": [],
   "source": []
  }
 ],
 "metadata": {
  "kernelspec": {
   "display_name": "Python 3",
   "language": "python",
   "name": "python3"
  },
  "language_info": {
   "codemirror_mode": {
    "name": "ipython",
    "version": 3
   },
   "file_extension": ".py",
   "mimetype": "text/x-python",
   "name": "python",
   "nbconvert_exporter": "python",
   "pygments_lexer": "ipython3",
   "version": "3.9.6"
  }
 },
 "nbformat": 4,
 "nbformat_minor": 5
}
