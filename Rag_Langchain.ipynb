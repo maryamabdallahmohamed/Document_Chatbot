{
 "cells": [
  {
   "cell_type": "markdown",
   "id": "74de1692",
   "metadata": {},
   "source": [
    "## Imports"
   ]
  },
  {
   "cell_type": "code",
   "execution_count": null,
   "id": "0d16bf56",
   "metadata": {},
   "outputs": [],
   "source": [
    "import json\n",
    "import pandas as pd\n",
    "import re\n",
    "import torch\n",
    "from langchain.text_splitter import RecursiveCharacterTextSplitter\n",
    "from langchain_huggingface import HuggingFaceEmbeddings\n",
    "from langchain.llms import Ollama\n",
    "from langchain.vectorstores import FAISS\n",
    "from langchain.schema import Document\n",
    "from langchain.prompts import PromptTemplate\n",
    "from langchain_core.runnables import RunnablePassthrough\n",
    "from langchain_core.output_parsers import StrOutputParser\n",
    "import numpy as np\n",
    "import faiss\n",
    "from langchain.docstore import InMemoryDocstore\n",
    "\n",
    "from langchain_community.vectorstores import FAISS"
   ]
  },
  {
   "cell_type": "markdown",
   "id": "d85f8a20",
   "metadata": {},
   "source": [
    "## RAG Pipeline with LangChain"
   ]
  },
  {
   "cell_type": "code",
   "execution_count": null,
   "id": "68271414",
   "metadata": {},
   "outputs": [],
   "source": [
    "class LangChainRAGPipeline:\n",
    "    def __init__(self):\n",
    "        self.text_splitter = None\n",
    "        self.embeddings = None\n",
    "        self.LLM_Model = 'qwen3:8b'\n",
    "        self.vectorstore = None\n",
    "        self.qa_chain = None\n",
    "        self.top_k = 5\n",
    "        self.normalize_embeddings = True\n",
    "        self.device = 'mps' if torch.backends.mps.is_available() else 'cuda' if torch.cuda.is_available() else 'cpu'\n",
    "        self._setup_components()\n",
    "\n",
    "\n",
    "    \n",
    "    def _setup_components(self, embedder_model=\"sentence-transformers/paraphrase-multilingual-MiniLM-L12-v2\"):\n",
    "        \"\"\"Initialize all LangChain components\"\"\"\n",
    "        self.text_splitter = RecursiveCharacterTextSplitter(\n",
    "            chunk_size=200,\n",
    "            chunk_overlap=30,\n",
    "            length_function=lambda x: len(x.split()),\n",
    "            separators=[\"\\n\\n\\n\", \"\\n\\n\", \"\\n\", \". \", \"! \", \"? \", \"; \", \", \", \" \", \"\"],\n",
    "            keep_separator=False,\n",
    "            add_start_index=True,\n",
    "            strip_whitespace=True\n",
    "        )\n",
    "        \n",
    "        self.embeddings = HuggingFaceEmbeddings(\n",
    "            model_name=embedder_model,\n",
    "            model_kwargs={'device': self.device},\n",
    "            cache_folder='embedder_model_cache',\n",
    "            encode_kwargs={'normalize_embeddings': self.normalize_embeddings}\n",
    "        )\n",
    "        \n",
    "        self.LLM_Model = Ollama(\n",
    "            model=self.LLM_Model,\n",
    "            temperature=0.3,\n",
    "            num_ctx=4096\n",
    "        )\n",
    "\n",
    "\n",
    "    \n",
    "    def load_and_preprocess_data(self, file_path):\n",
    "        \"\"\"Load data and create LangChain Documents\"\"\"\n",
    "        with open(file_path, 'r') as f:\n",
    "            data = json.load(f)\n",
    "        \n",
    "        df = pd.DataFrame(data, columns=['text'])\n",
    "        df['clean_text'] = df['text'].apply(self._clean_text)\n",
    "        combined_text = \"\\n\".join(df['clean_text'].tolist())\n",
    "        documents = [Document(page_content=combined_text, metadata={\"source\": file_path})]\n",
    "        return documents\n",
    "    \n",
    "\n",
    "\n",
    "    \n",
    "    def _clean_text(self, text):\n",
    "        \"\"\"Clean text data\"\"\"\n",
    "        text = str(text)\n",
    "        text = re.sub(r'\\n{3,}', '\\n\\n', text)\n",
    "        text = re.sub(r'\\s+', ' ', text)\n",
    "        return text.strip()\n",
    "    \n",
    "\n",
    "\n",
    "    \n",
    "    def create_vectorstore(self, documents, save_path=None):\n",
    "        \"\"\"Create and optionally save FAISS vectorstore with cosine similarity\"\"\"\n",
    "        chunks = self.text_splitter.split_documents(documents)\n",
    "        print(f\"Created {len(chunks)} chunks\")\n",
    "\n",
    "        \n",
    "        # Get embeddings for all chunks\n",
    "        texts = [chunk.page_content for chunk in chunks]\n",
    "        embeddings_matrix = self.embeddings.embed_documents(texts)\n",
    "        embeddings_matrix = np.array(embeddings_matrix, dtype=np.float32)\n",
    "\n",
    "        # Create FAISS index with Inner Product (which equals cosine similarity for normalized vectors)\n",
    "        dimension = embeddings_matrix.shape[1]\n",
    "        index = faiss.IndexFlatIP(dimension) \n",
    "        index.add(embeddings_matrix)\n",
    "        \n",
    "        # Create FAISS vectorstore\n",
    "        \n",
    "        self.vectorstore = FAISS(\n",
    "            embedding_function=self.embeddings,\n",
    "            index=index,\n",
    "            docstore=InMemoryDocstore({str(i): chunks[i] for i in range(len(chunks))}),\n",
    "            index_to_docstore_id={i: str(i) for i in range(len(chunks))}\n",
    "        )\n",
    "        \n",
    "        if save_path:\n",
    "            self.vectorstore.save_local(save_path)\n",
    "            print(f\"Vectorstore saved to {save_path}\")\n",
    "        return self.vectorstore\n",
    "    \n",
    "\n",
    "    \n",
    "    def load_vectorstore(self, load_path):\n",
    "        \"\"\"Load existing vectorstore\"\"\"\n",
    "        self.vectorstore = FAISS.load_local(load_path, self.embeddings)\n",
    "        print(f\"Vectorstore loaded from {load_path}\")\n",
    "        return self.vectorstore\n",
    "    \n",
    "    \n",
    "    def setup_qa_chain(self):\n",
    "        \"\"\"Setup QA chain with custom prompts\"\"\"\n",
    "        if not self.vectorstore:\n",
    "            raise ValueError(\"Vectorstore not initialized. Call create_vectorstore() or load_vectorstore() first.\")\n",
    "        \n",
    "        retriever = self.vectorstore.as_retriever(\n",
    "            search_type=\"similarity\",\n",
    "            search_kwargs={\"k\": self.top_k}\n",
    "        )\n",
    "        \n",
    "        print(\"RETRIEVER is :\", retriever)\n",
    "        prompt_template = \"\"\"You are a helpful assistant. Analyze the context and provide a structured response.\n",
    "\n",
    "                Context:\n",
    "                {context}\n",
    "\n",
    "                Question: {question}\n",
    "\n",
    "                Please provide your response in exactly this format:\n",
    "\n",
    "                RESPONSE:\n",
    "                [Your direct, concise answer to the question]\n",
    "\n",
    "                REASONING:\n",
    "                [Brief explanation of how you arrived at this answer using the sources]\n",
    "\n",
    "                SOURCES:\n",
    "                [List the source numbers that support your answer, e.g., 1, 2, 3]\n",
    "\n",
    "                Important: Do not include any <think> tags or internal reasoning. Be direct and concise.\"\"\"\n",
    "\n",
    "        PROMPT = PromptTemplate(\n",
    "                template=prompt_template,\n",
    "                input_variables=[\"context\", \"question\"]\n",
    "            )\n",
    "            \n",
    "        self.qa_chain = (\n",
    "                {\n",
    "                    \"context\": retriever | self._format_docs,\n",
    "                    \"question\": RunnablePassthrough()\n",
    "                }\n",
    "                | PROMPT\n",
    "                | self.LLM_Model\n",
    "                | StrOutputParser()\n",
    "            )\n",
    "        \n",
    "        return self.qa_chain\n",
    "    \n",
    "\n",
    "\n",
    "    def _format_docs(self, docs):\n",
    "        \"\"\"Format documents for context\"\"\"\n",
    "        formatted = \"\"\n",
    "        for i, doc in enumerate(docs, 1):\n",
    "            formatted += f\"[Source {i}]: {doc.page_content}\\n\\n\"\n",
    "        return formatted\n",
    "    \n",
    "\n",
    "    \n",
    "    def ask_question(self, question, return_sources=True):\n",
    "        \"\"\"Ask a question and get structured response\"\"\"\n",
    "        if not self.qa_chain:\n",
    "            raise ValueError(\"QA chain not initialized. Call setup_qa_chain() first.\")\n",
    "        response = self.qa_chain.invoke(question)\n",
    "        parsed_response = self._parse_structured_response(response)\n",
    "        \n",
    "        if return_sources:\n",
    "            retriever = self.vectorstore.as_retriever(\n",
    "                search_type=\"similarity\",\n",
    "                search_kwargs={\"k\": self.top_k}\n",
    "            )\n",
    "            source_docs = retriever.get_relevant_documents(question)\n",
    "            parsed_response['source_documents'] = source_docs\n",
    "            parsed_response['source_texts'] = [doc.page_content for doc in source_docs]\n",
    "        \n",
    "        return parsed_response\n",
    "    \n",
    "    \n",
    "\n",
    "    def _parse_structured_response(self, response_text):\n",
    "        \"\"\"Parse the structured response\"\"\"\n",
    "        cleaned_response = re.sub(r'<think>.*?</think>', '', response_text, flags=re.DOTALL)\n",
    "        cleaned_response = re.sub(r'<[^>]+>', '', cleaned_response)\n",
    "        cleaned_response = re.sub(r'\\n\\s*\\n', '\\n\\n', cleaned_response.strip())\n",
    "        \n",
    "        sections = {'response': '', 'reasoning': '', 'sources': ''}\n",
    "        current_section = None\n",
    "        current_content = []\n",
    "        \n",
    "        lines = cleaned_response.split('\\n')\n",
    "        \n",
    "        for line in lines:\n",
    "            line = line.strip()\n",
    "            \n",
    "            if line.upper().startswith('RESPONSE:'):\n",
    "                if current_section:\n",
    "                    sections[current_section] = '\\n'.join(current_content).strip()\n",
    "                current_section = 'response'\n",
    "                current_content = [line[9:].strip()]\n",
    "                \n",
    "            elif line.upper().startswith('REASONING:'):\n",
    "                if current_section:\n",
    "                    sections[current_section] = '\\n'.join(current_content).strip()\n",
    "                current_section = 'reasoning'\n",
    "                current_content = [line[10:].strip()]\n",
    "                \n",
    "            elif line.upper().startswith('SOURCES:'):\n",
    "                if current_section:\n",
    "                    sections[current_section] = '\\n'.join(current_content).strip()\n",
    "                current_section = 'sources'\n",
    "                current_content = [line[8:].strip()]\n",
    "                \n",
    "            elif current_section and line:\n",
    "                current_content.append(line)\n",
    "        \n",
    "        if current_section:\n",
    "            sections[current_section] = '\\n'.join(current_content).strip()\n",
    "        \n",
    "        source_ids = []\n",
    "        if sections['sources']:\n",
    "            source_text = sections['sources']\n",
    "            source_ids = [int(x) for x in re.findall(r'\\d+', source_text)]\n",
    "        \n",
    "        return {\n",
    "            'answer': sections['response'],\n",
    "            'reasoning': sections['reasoning'],\n",
    "            'sources': source_ids,\n",
    "            'raw_response': cleaned_response\n",
    "        }\n",
    "    \n",
    "\n",
    "    def similarity_search(self, query, k=None):\n",
    "        \"\"\"Perform similarity search\"\"\"\n",
    "        if not self.vectorstore:\n",
    "            raise ValueError(\"Vectorstore not initialized.\")\n",
    "        \n",
    "        k = k or self.top_k\n",
    "        return self.vectorstore.similarity_search(query, k=k)\n",
    "    \n",
    "\n",
    "    def similarity_search_with_score(self, query, k=None):\n",
    "        \"\"\"Perform similarity search with scores (now properly cosine similarity)\"\"\"\n",
    "        if not self.vectorstore:\n",
    "            raise ValueError(\"Vectorstore not initialized.\")\n",
    "        \n",
    "        k = k or self.top_k\n",
    "        results = self.vectorstore.similarity_search_with_score(query, k=k)\n",
    "    \n",
    "        print(f\"Similarity scores for query '{query}':\")\n",
    "        for i, (doc, score) in enumerate(results):\n",
    "            print(f\"  Result {i+1}: Score = {score:.4f}\")\n",
    "            \n",
    "        return results"
   ]
  },
  {
   "cell_type": "code",
   "execution_count": 36,
   "id": "f6625056",
   "metadata": {},
   "outputs": [
    {
     "name": "stdout",
     "output_type": "stream",
     "text": [
      "Created 16 chunks\n",
      "Vectorstore saved to market_research_vectorstore\n",
      "RETRIEVER is : tags=['FAISS', 'HuggingFaceEmbeddings'] vectorstore=<langchain_community.vectorstores.faiss.FAISS object at 0x429dff1f0> search_kwargs={'k': 5}\n"
     ]
    }
   ],
   "source": [
    "pipeline = LangChainRAGPipeline()\n",
    "documents = pipeline.load_and_preprocess_data('Market Research Report_extracted_text.json')\n",
    "vectorstore = pipeline.create_vectorstore(documents, save_path=\"market_research_vectorstore\")\n",
    "qa_chain = pipeline.setup_qa_chain()\n",
    "pipeline.ask_question(\"What are the recommended features to be added to the project?\")\n",
    "result = pipeline.ask_question(\"What are the recommended features to be added to the project?\")\n"
   ]
  },
  {
   "cell_type": "code",
   "execution_count": 37,
   "id": "50333d34",
   "metadata": {},
   "outputs": [
    {
     "data": {
      "text/plain": [
       "{'answer': 'The recommended features include PDF editing/annotations, real-time translation review, domain-specific translation, tone customization, AI summarization, and enhanced OCR support.',\n",
       " 'reasoning': 'The sources highlight gaps in current tools, such as limited editing capabilities (Sources 1, 2), lack of domain-specific/tone adjustments (Sources 2, 5), insufficient OCR options (Source 3), and the need for AI-driven features like summarization (Source 5). These recommendations aim to improve functionality and user experience.',\n",
       " 'sources': [1, 2, 3, 5],\n",
       " 'raw_response': 'RESPONSE:  \\nThe recommended features include PDF editing/annotations, real-time translation review, domain-specific translation, tone customization, AI summarization, and enhanced OCR support.  \\n\\nREASONING:  \\nThe sources highlight gaps in current tools, such as limited editing capabilities (Sources 1, 2), lack of domain-specific/tone adjustments (Sources 2, 5), insufficient OCR options (Source 3), and the need for AI-driven features like summarization (Source 5). These recommendations aim to improve functionality and user experience.  \\n\\nSOURCES:  \\n1, 2, 3, 5',\n",
       " 'source_documents': [Document(metadata={'source': 'Market Research Report_extracted_text.json', 'start_index': 3115}, page_content=\"Based on the evaluation, several opportunities exist to enhance document translation tools to better serve B2B and B2C markets. The following recommended features aim to address ga ps identified in the tested tools and improve functionality, user experience, and translation quality: • Editing Capabilities 1. PDF Editing: Enable users to add text, shapes, images, and freehand annotations to PDFs, facilitating document customization and correction post -translation. 2. PDF Annotations: Provide tools to write, draw, and highlight directly on PDFs, enhancing collaboration and docu ment review processes. 3. Split PDF: Allow users to split a PDF into multiple PDFs, with each page saved as a separate file. Include advanced options, such as specifying page ranges or programmatic splitting (similar to Python's split() function), to offer fl exibility.\"),\n",
       "  Document(metadata={'source': 'Market Research Report_extracted_text.json', 'start_index': -1}, page_content='This feature enables users to compare, review, and edit translations in real time, enhancing accuracy and usability for both professional and casual users. These recommended features address critical gaps in current tools, such as limited editing capabilit ies, lack of flexible OCR options, insufficient support for domain -specific or tone - adjusted translations, absence of advanced translation modes, and the need for intuitive review interfaces. Implementing these enhancements could significantly improve the functionality and market competitiveness of document translation tools.'),\n",
       "  Document(metadata={'source': 'Market Research Report_extracted_text.json', 'start_index': 149}, page_content='Introduction This market research report analyzes competitors offering document translation tools that support PDF, Word, Excel, and scanned images while preserving layout and formatting. The focus is on tools that handle Arabic, French, and English languages, catering to both B2B and B2C markets. The key features evaluated include layout preservation, Arabic support and quality, translation accuracy and speed, pricing model, and Optical Character Recognition (OCR) support. To assess these tools, a series of test cases were conducted for each language, including: 1. Text -based documents: Evaluating basic translation accuracy, layout preservation, handling of number lists, bullet points, and right -to-left (RTL) and left -to-right (LTR) conversions. 2. Scanned documents: Testing OCR performance, particularly for Arabic, and preservation of bullet points, number lists, and order. 3. Tables (as text): Checking if tables remain aligned and readable, with attention to merged cells and number formatting. 4. Tables (as images): Evaluating the same as above with the addition of OCR. 5. Scanned documents with stamps or signatures: Testing performance with logos and non - translatable elements'),\n",
       "  Document(metadata={'source': 'Market Research Report_extracted_text.json', 'start_index': 8069}, page_content='Pricing Plans for Paid Tool s Tool Plan Name Cost Key Features Benefits Notes Doctranslate.io Topup -50 $4.99 50 translation credit • 10 cent/ page . • Credit expiration : permanent . • Perfect for quick, one -time needs. 1image/PDF page (A page is estimated to have 200 words): Costs 02 credits Topup -120 $9.99 120 translation credits Topup -260 $19.99 260 translation credits Topup -750 $49.99 750 translation credits Personal Subscription $199 4000 credits/year • ~6 cent/ page . • Credit expiration : 1 year . • Best usage for frequent, individual use. Team Subscription $999 25000 credits/ye ar • 4 cent/ page . • Credit expiration : 1 year / 3month . • Best value for high -volume translations. $99 2000 credits/ 3 month DeepL Pro Starter ~$8.74/user/month (Paid annually ) Up to 5 users • 5 files/month . • 5 editable file translations per user/month in tota l. • Upload files up to 10 MB • Tone /informal tone is available . Pro Advanced $28.74/user/ month (Paid annually ) For individuals & teams • 20 files/month . • 5 editable file translations per user/month in tota l'),\n",
       "  Document(metadata={'source': 'Market Research Report_extracted_text.json', 'start_index': -1}, page_content='2. AI PDF Summarization: Provide automated summarization of PDF content, enabling users to quickly grasp key points without reading entire documents. 3. AI Question Generator: Generat e relevant questions based on PDF content, supporting educational, training, or analytical use cases. 4. AI Instructions: Allow users to input custom prompts or guidelines for the AI engine to follow during translation, ensuring translations align with specif ic requirements or preferences. 5. Domain -Specific Translation: Incorporate smart detection or a predefined list of domains (e.g., banking, accounting, law, physics) to enhance translation accuracy for specialized documents. 6. Tone Customization: Enable smart d etection or manual selection of tone (e.g., formal, friendly) to tailor translations to the intended audience or context.')],\n",
       " 'source_texts': [\"Based on the evaluation, several opportunities exist to enhance document translation tools to better serve B2B and B2C markets. The following recommended features aim to address ga ps identified in the tested tools and improve functionality, user experience, and translation quality: • Editing Capabilities 1. PDF Editing: Enable users to add text, shapes, images, and freehand annotations to PDFs, facilitating document customization and correction post -translation. 2. PDF Annotations: Provide tools to write, draw, and highlight directly on PDFs, enhancing collaboration and docu ment review processes. 3. Split PDF: Allow users to split a PDF into multiple PDFs, with each page saved as a separate file. Include advanced options, such as specifying page ranges or programmatic splitting (similar to Python's split() function), to offer fl exibility.\",\n",
       "  'This feature enables users to compare, review, and edit translations in real time, enhancing accuracy and usability for both professional and casual users. These recommended features address critical gaps in current tools, such as limited editing capabilit ies, lack of flexible OCR options, insufficient support for domain -specific or tone - adjusted translations, absence of advanced translation modes, and the need for intuitive review interfaces. Implementing these enhancements could significantly improve the functionality and market competitiveness of document translation tools.',\n",
       "  'Introduction This market research report analyzes competitors offering document translation tools that support PDF, Word, Excel, and scanned images while preserving layout and formatting. The focus is on tools that handle Arabic, French, and English languages, catering to both B2B and B2C markets. The key features evaluated include layout preservation, Arabic support and quality, translation accuracy and speed, pricing model, and Optical Character Recognition (OCR) support. To assess these tools, a series of test cases were conducted for each language, including: 1. Text -based documents: Evaluating basic translation accuracy, layout preservation, handling of number lists, bullet points, and right -to-left (RTL) and left -to-right (LTR) conversions. 2. Scanned documents: Testing OCR performance, particularly for Arabic, and preservation of bullet points, number lists, and order. 3. Tables (as text): Checking if tables remain aligned and readable, with attention to merged cells and number formatting. 4. Tables (as images): Evaluating the same as above with the addition of OCR. 5. Scanned documents with stamps or signatures: Testing performance with logos and non - translatable elements',\n",
       "  'Pricing Plans for Paid Tool s Tool Plan Name Cost Key Features Benefits Notes Doctranslate.io Topup -50 $4.99 50 translation credit • 10 cent/ page . • Credit expiration : permanent . • Perfect for quick, one -time needs. 1image/PDF page (A page is estimated to have 200 words): Costs 02 credits Topup -120 $9.99 120 translation credits Topup -260 $19.99 260 translation credits Topup -750 $49.99 750 translation credits Personal Subscription $199 4000 credits/year • ~6 cent/ page . • Credit expiration : 1 year . • Best usage for frequent, individual use. Team Subscription $999 25000 credits/ye ar • 4 cent/ page . • Credit expiration : 1 year / 3month . • Best value for high -volume translations. $99 2000 credits/ 3 month DeepL Pro Starter ~$8.74/user/month (Paid annually ) Up to 5 users • 5 files/month . • 5 editable file translations per user/month in tota l. • Upload files up to 10 MB • Tone /informal tone is available . Pro Advanced $28.74/user/ month (Paid annually ) For individuals & teams • 20 files/month . • 5 editable file translations per user/month in tota l',\n",
       "  '2. AI PDF Summarization: Provide automated summarization of PDF content, enabling users to quickly grasp key points without reading entire documents. 3. AI Question Generator: Generat e relevant questions based on PDF content, supporting educational, training, or analytical use cases. 4. AI Instructions: Allow users to input custom prompts or guidelines for the AI engine to follow during translation, ensuring translations align with specif ic requirements or preferences. 5. Domain -Specific Translation: Incorporate smart detection or a predefined list of domains (e.g., banking, accounting, law, physics) to enhance translation accuracy for specialized documents. 6. Tone Customization: Enable smart d etection or manual selection of tone (e.g., formal, friendly) to tailor translations to the intended audience or context.']}"
      ]
     },
     "execution_count": 37,
     "metadata": {},
     "output_type": "execute_result"
    }
   ],
   "source": [
    "result"
   ]
  },
  {
   "cell_type": "code",
   "execution_count": 38,
   "id": "2f6146fc",
   "metadata": {},
   "outputs": [
    {
     "data": {
      "text/plain": [
       "[Document(metadata={'source': 'Market Research Report_extracted_text.json', 'start_index': 3115}, page_content=\"Based on the evaluation, several opportunities exist to enhance document translation tools to better serve B2B and B2C markets. The following recommended features aim to address ga ps identified in the tested tools and improve functionality, user experience, and translation quality: • Editing Capabilities 1. PDF Editing: Enable users to add text, shapes, images, and freehand annotations to PDFs, facilitating document customization and correction post -translation. 2. PDF Annotations: Provide tools to write, draw, and highlight directly on PDFs, enhancing collaboration and docu ment review processes. 3. Split PDF: Allow users to split a PDF into multiple PDFs, with each page saved as a separate file. Include advanced options, such as specifying page ranges or programmatic splitting (similar to Python's split() function), to offer fl exibility.\"),\n",
       " Document(metadata={'source': 'Market Research Report_extracted_text.json', 'start_index': -1}, page_content='This feature enables users to compare, review, and edit translations in real time, enhancing accuracy and usability for both professional and casual users. These recommended features address critical gaps in current tools, such as limited editing capabilit ies, lack of flexible OCR options, insufficient support for domain -specific or tone - adjusted translations, absence of advanced translation modes, and the need for intuitive review interfaces. Implementing these enhancements could significantly improve the functionality and market competitiveness of document translation tools.'),\n",
       " Document(metadata={'source': 'Market Research Report_extracted_text.json', 'start_index': 149}, page_content='Introduction This market research report analyzes competitors offering document translation tools that support PDF, Word, Excel, and scanned images while preserving layout and formatting. The focus is on tools that handle Arabic, French, and English languages, catering to both B2B and B2C markets. The key features evaluated include layout preservation, Arabic support and quality, translation accuracy and speed, pricing model, and Optical Character Recognition (OCR) support. To assess these tools, a series of test cases were conducted for each language, including: 1. Text -based documents: Evaluating basic translation accuracy, layout preservation, handling of number lists, bullet points, and right -to-left (RTL) and left -to-right (LTR) conversions. 2. Scanned documents: Testing OCR performance, particularly for Arabic, and preservation of bullet points, number lists, and order. 3. Tables (as text): Checking if tables remain aligned and readable, with attention to merged cells and number formatting. 4. Tables (as images): Evaluating the same as above with the addition of OCR. 5. Scanned documents with stamps or signatures: Testing performance with logos and non - translatable elements')]"
      ]
     },
     "execution_count": 38,
     "metadata": {},
     "output_type": "execute_result"
    }
   ],
   "source": [
    "pipeline.similarity_search(\"What are the recommended features to be added to the project?\", k=3)"
   ]
  },
  {
   "cell_type": "code",
   "execution_count": 39,
   "id": "80b922a2",
   "metadata": {},
   "outputs": [
    {
     "name": "stdout",
     "output_type": "stream",
     "text": [
      "Similarity scores for query 'What are the recommended features to be added to the project?':\n",
      "  Result 1: Score = 0.4394\n",
      "  Result 2: Score = 0.3826\n",
      "  Result 3: Score = 0.3562\n",
      "  Result 4: Score = 0.3311\n",
      "  Result 5: Score = 0.2651\n"
     ]
    },
    {
     "data": {
      "text/plain": [
       "[(Document(metadata={'source': 'Market Research Report_extracted_text.json', 'start_index': 3115}, page_content=\"Based on the evaluation, several opportunities exist to enhance document translation tools to better serve B2B and B2C markets. The following recommended features aim to address ga ps identified in the tested tools and improve functionality, user experience, and translation quality: • Editing Capabilities 1. PDF Editing: Enable users to add text, shapes, images, and freehand annotations to PDFs, facilitating document customization and correction post -translation. 2. PDF Annotations: Provide tools to write, draw, and highlight directly on PDFs, enhancing collaboration and docu ment review processes. 3. Split PDF: Allow users to split a PDF into multiple PDFs, with each page saved as a separate file. Include advanced options, such as specifying page ranges or programmatic splitting (similar to Python's split() function), to offer fl exibility.\"),\n",
       "  0.43941298),\n",
       " (Document(metadata={'source': 'Market Research Report_extracted_text.json', 'start_index': -1}, page_content='This feature enables users to compare, review, and edit translations in real time, enhancing accuracy and usability for both professional and casual users. These recommended features address critical gaps in current tools, such as limited editing capabilit ies, lack of flexible OCR options, insufficient support for domain -specific or tone - adjusted translations, absence of advanced translation modes, and the need for intuitive review interfaces. Implementing these enhancements could significantly improve the functionality and market competitiveness of document translation tools.'),\n",
       "  0.3826242),\n",
       " (Document(metadata={'source': 'Market Research Report_extracted_text.json', 'start_index': 149}, page_content='Introduction This market research report analyzes competitors offering document translation tools that support PDF, Word, Excel, and scanned images while preserving layout and formatting. The focus is on tools that handle Arabic, French, and English languages, catering to both B2B and B2C markets. The key features evaluated include layout preservation, Arabic support and quality, translation accuracy and speed, pricing model, and Optical Character Recognition (OCR) support. To assess these tools, a series of test cases were conducted for each language, including: 1. Text -based documents: Evaluating basic translation accuracy, layout preservation, handling of number lists, bullet points, and right -to-left (RTL) and left -to-right (LTR) conversions. 2. Scanned documents: Testing OCR performance, particularly for Arabic, and preservation of bullet points, number lists, and order. 3. Tables (as text): Checking if tables remain aligned and readable, with attention to merged cells and number formatting. 4. Tables (as images): Evaluating the same as above with the addition of OCR. 5. Scanned documents with stamps or signatures: Testing performance with logos and non - translatable elements'),\n",
       "  0.35619342),\n",
       " (Document(metadata={'source': 'Market Research Report_extracted_text.json', 'start_index': 8069}, page_content='Pricing Plans for Paid Tool s Tool Plan Name Cost Key Features Benefits Notes Doctranslate.io Topup -50 $4.99 50 translation credit • 10 cent/ page . • Credit expiration : permanent . • Perfect for quick, one -time needs. 1image/PDF page (A page is estimated to have 200 words): Costs 02 credits Topup -120 $9.99 120 translation credits Topup -260 $19.99 260 translation credits Topup -750 $49.99 750 translation credits Personal Subscription $199 4000 credits/year • ~6 cent/ page . • Credit expiration : 1 year . • Best usage for frequent, individual use. Team Subscription $999 25000 credits/ye ar • 4 cent/ page . • Credit expiration : 1 year / 3month . • Best value for high -volume translations. $99 2000 credits/ 3 month DeepL Pro Starter ~$8.74/user/month (Paid annually ) Up to 5 users • 5 files/month . • 5 editable file translations per user/month in tota l. • Upload files up to 10 MB • Tone /informal tone is available . Pro Advanced $28.74/user/ month (Paid annually ) For individuals & teams • 20 files/month . • 5 editable file translations per user/month in tota l'),\n",
       "  0.33113796),\n",
       " (Document(metadata={'source': 'Market Research Report_extracted_text.json', 'start_index': -1}, page_content='2. AI PDF Summarization: Provide automated summarization of PDF content, enabling users to quickly grasp key points without reading entire documents. 3. AI Question Generator: Generat e relevant questions based on PDF content, supporting educational, training, or analytical use cases. 4. AI Instructions: Allow users to input custom prompts or guidelines for the AI engine to follow during translation, ensuring translations align with specif ic requirements or preferences. 5. Domain -Specific Translation: Incorporate smart detection or a predefined list of domains (e.g., banking, accounting, law, physics) to enhance translation accuracy for specialized documents. 6. Tone Customization: Enable smart d etection or manual selection of tone (e.g., formal, friendly) to tailor translations to the intended audience or context.'),\n",
       "  0.26512775)]"
      ]
     },
     "execution_count": 39,
     "metadata": {},
     "output_type": "execute_result"
    }
   ],
   "source": [
    "pipeline.similarity_search_with_score(\"What are the recommended features to be added to the project?\", k=5)"
   ]
  },
  {
   "cell_type": "code",
   "execution_count": 41,
   "id": "fb24d517",
   "metadata": {},
   "outputs": [
    {
     "data": {
      "text/plain": [
       "{'answer': 'Doctranslate.io',\n",
       " 'reasoning': 'The pricing plans for Doctranslate.io (Source 1 and Source 5) explicitly mention credit-based pricing, such as \"translation credits,\" \"credit expiration,\" and \"Topup\" options. Other tools like DeepL Pro and Doclingo use per-user/month or character-based pricing without a credit system.',\n",
       " 'sources': [1, 5],\n",
       " 'raw_response': 'RESPONSE:  \\nDoctranslate.io  \\n\\nREASONING:  \\nThe pricing plans for Doctranslate.io (Source 1 and Source 5) explicitly mention credit-based pricing, such as \"translation credits,\" \"credit expiration,\" and \"Topup\" options. Other tools like DeepL Pro and Doclingo use per-user/month or character-based pricing without a credit system.  \\n\\nSOURCES:  \\n1, 5',\n",
       " 'source_documents': [Document(metadata={'source': 'Market Research Report_extracted_text.json', 'start_index': 8069}, page_content='Pricing Plans for Paid Tool s Tool Plan Name Cost Key Features Benefits Notes Doctranslate.io Topup -50 $4.99 50 translation credit • 10 cent/ page . • Credit expiration : permanent . • Perfect for quick, one -time needs. 1image/PDF page (A page is estimated to have 200 words): Costs 02 credits Topup -120 $9.99 120 translation credits Topup -260 $19.99 260 translation credits Topup -750 $49.99 750 translation credits Personal Subscription $199 4000 credits/year • ~6 cent/ page . • Credit expiration : 1 year . • Best usage for frequent, individual use. Team Subscription $999 25000 credits/ye ar • 4 cent/ page . • Credit expiration : 1 year / 3month . • Best value for high -volume translations. $99 2000 credits/ 3 month DeepL Pro Starter ~$8.74/user/month (Paid annually ) Up to 5 users • 5 files/month . • 5 editable file translations per user/month in tota l. • Upload files up to 10 MB • Tone /informal tone is available . Pro Advanced $28.74/user/ month (Paid annually ) For individuals & teams • 20 files/month . • 5 editable file translations per user/month in tota l'),\n",
       "  Document(metadata={'source': 'Market Research Report_extracted_text.json', 'start_index': -1}, page_content='Pro Advanced $28.74/user/ month (Paid annually ) For individuals & teams • 20 files/month . • 5 editable file translations per user/month in tota l. • Upload files up to 20 MB . • Tone /informal tone is available . Pro Ultimate $57.49 /user/ month (Paid annually ) For individuals & teams • 20 files/month . • 5 editable file translations per user/month in tota l. • Upload files up to 20 MB . • Tone /informal tone is available . Doclingo Premium 7-Day $2.29/7 -Day • 250,000 chars. Monthly limit. • No daily limit . • No number of tra ns. Limit. • File size: 500 MB . • Trans. Engine : ChatGPT/Gemini /Deepseek/Claude . Premium + 7- Day $2.99/7-Day • 500,000 chars. Monthly limit • No daily limit . • No number of tra ns. Limit. • File size: 500 MB . • Trans. Engine : ChatGPT/Gemini /Deepseek/Claude . Premium 30- Day $7.59/M • 1M chars. Monthly limit. • No daily limit . • No number of tra ns. Limit. • File size: 500 MB . • Trans. Engine : ChatGPT/Gemini /Deepseek/Claude'),\n",
       "  Document(metadata={'source': 'Market Research Report_extracted_text.json', 'start_index': 11470}, page_content='TranslaDocs • Cons: o No OCR support . o No Arabic language support . SmallPDF • Cons: o No OCR support . Doclingo • Pros: o Supports OCR . o Good performance for Arabic to English scanned documents . • Cons: o Fails with complex image tables . o Does not preserve RTL when translating from English to Arabic . DeepL • Pros: o Excellent performance for English OCR . • Cons: o Does not support Arabic OCR. Translated documents can be found here : DeepL Summary of Findings: The tools demonstrated varied performance across key criteria. Some excelled in specific areas, such as translation accuracy or affordability, while others lagged in advanced features like robust language support or seamless integration with existing workf lows. Pricing models also ranged widely, catering to different user segments from cost -conscious individuals to enterprises requiring premium functionalities.'),\n",
       "  Document(metadata={'source': 'Market Research Report_extracted_text.json', 'start_index': 0}, page_content='MARKET RESEARCH REPORT: ANALYSIS OF DOCUMENT TRANSLATION TOOLS Evaluating Leading Solutions for Multilingual Document Translation Mah inour Mohammad'),\n",
       "  Document(metadata={'source': 'Market Research Report_extracted_text.json', 'start_index': 10335}, page_content='Detailed Findings Doctranslator • Pros: o Free of charge . o Preserves layout effectively for English to Arabic translations, particularly tables . o Handles RTL/LTR directions well . • Cons: o No OCR support . o Poor handling of mixed Arabic/English lines . o Table layout breaks when translating from Arabic to English . Translated files can be found here: DocTrasnlator Doctranslate.io • Pros: o Offers OCR capabilities (slow and image -based) . • Cons: o Poor layout preservation, especially for tables . o Does not translate Arabic n umerals . o Inadequate handling of RTL/LTR mix . o Processing time: 1 –3 minutes . Translated files can be found here: doctransla.io Premium + 30- Day $88.9/M • 2M chars. Monthly limit. • No daily limit . • No number of tra ns. Limit. • File size: 500 MB . • Trans. Engine : ChatGPT/Gemini /Deepseek/Claude . Quota recharges $1.99 100000 chars . • 2M chars. Monthly limit. • No daily limit . • No number of tra ns. Limit. • File size: 500 MB . • Trans. Engine : ChatGPT/Gemini /Deepseek/Claude . $2.99 200000 chars . $7.99 500000 chars')],\n",
       " 'source_texts': ['Pricing Plans for Paid Tool s Tool Plan Name Cost Key Features Benefits Notes Doctranslate.io Topup -50 $4.99 50 translation credit • 10 cent/ page . • Credit expiration : permanent . • Perfect for quick, one -time needs. 1image/PDF page (A page is estimated to have 200 words): Costs 02 credits Topup -120 $9.99 120 translation credits Topup -260 $19.99 260 translation credits Topup -750 $49.99 750 translation credits Personal Subscription $199 4000 credits/year • ~6 cent/ page . • Credit expiration : 1 year . • Best usage for frequent, individual use. Team Subscription $999 25000 credits/ye ar • 4 cent/ page . • Credit expiration : 1 year / 3month . • Best value for high -volume translations. $99 2000 credits/ 3 month DeepL Pro Starter ~$8.74/user/month (Paid annually ) Up to 5 users • 5 files/month . • 5 editable file translations per user/month in tota l. • Upload files up to 10 MB • Tone /informal tone is available . Pro Advanced $28.74/user/ month (Paid annually ) For individuals & teams • 20 files/month . • 5 editable file translations per user/month in tota l',\n",
       "  'Pro Advanced $28.74/user/ month (Paid annually ) For individuals & teams • 20 files/month . • 5 editable file translations per user/month in tota l. • Upload files up to 20 MB . • Tone /informal tone is available . Pro Ultimate $57.49 /user/ month (Paid annually ) For individuals & teams • 20 files/month . • 5 editable file translations per user/month in tota l. • Upload files up to 20 MB . • Tone /informal tone is available . Doclingo Premium 7-Day $2.29/7 -Day • 250,000 chars. Monthly limit. • No daily limit . • No number of tra ns. Limit. • File size: 500 MB . • Trans. Engine : ChatGPT/Gemini /Deepseek/Claude . Premium + 7- Day $2.99/7-Day • 500,000 chars. Monthly limit • No daily limit . • No number of tra ns. Limit. • File size: 500 MB . • Trans. Engine : ChatGPT/Gemini /Deepseek/Claude . Premium 30- Day $7.59/M • 1M chars. Monthly limit. • No daily limit . • No number of tra ns. Limit. • File size: 500 MB . • Trans. Engine : ChatGPT/Gemini /Deepseek/Claude',\n",
       "  'TranslaDocs • Cons: o No OCR support . o No Arabic language support . SmallPDF • Cons: o No OCR support . Doclingo • Pros: o Supports OCR . o Good performance for Arabic to English scanned documents . • Cons: o Fails with complex image tables . o Does not preserve RTL when translating from English to Arabic . DeepL • Pros: o Excellent performance for English OCR . • Cons: o Does not support Arabic OCR. Translated documents can be found here : DeepL Summary of Findings: The tools demonstrated varied performance across key criteria. Some excelled in specific areas, such as translation accuracy or affordability, while others lagged in advanced features like robust language support or seamless integration with existing workf lows. Pricing models also ranged widely, catering to different user segments from cost -conscious individuals to enterprises requiring premium functionalities.',\n",
       "  'MARKET RESEARCH REPORT: ANALYSIS OF DOCUMENT TRANSLATION TOOLS Evaluating Leading Solutions for Multilingual Document Translation Mah inour Mohammad',\n",
       "  'Detailed Findings Doctranslator • Pros: o Free of charge . o Preserves layout effectively for English to Arabic translations, particularly tables . o Handles RTL/LTR directions well . • Cons: o No OCR support . o Poor handling of mixed Arabic/English lines . o Table layout breaks when translating from Arabic to English . Translated files can be found here: DocTrasnlator Doctranslate.io • Pros: o Offers OCR capabilities (slow and image -based) . • Cons: o Poor layout preservation, especially for tables . o Does not translate Arabic n umerals . o Inadequate handling of RTL/LTR mix . o Processing time: 1 –3 minutes . Translated files can be found here: doctransla.io Premium + 30- Day $88.9/M • 2M chars. Monthly limit. • No daily limit . • No number of tra ns. Limit. • File size: 500 MB . • Trans. Engine : ChatGPT/Gemini /Deepseek/Claude . Quota recharges $1.99 100000 chars . • 2M chars. Monthly limit. • No daily limit . • No number of tra ns. Limit. • File size: 500 MB . • Trans. Engine : ChatGPT/Gemini /Deepseek/Claude . $2.99 200000 chars . $7.99 500000 chars']}"
      ]
     },
     "execution_count": 41,
     "metadata": {},
     "output_type": "execute_result"
    }
   ],
   "source": [
    "pipeline.ask_question(\"Which translator charges users with credits?\")"
   ]
  },
  {
   "cell_type": "code",
   "execution_count": 42,
   "id": "32764e16",
   "metadata": {},
   "outputs": [
    {
     "data": {
      "text/plain": [
       "{'answer': 'The main topic is the evaluation and enhancement of document translation tools for multilingual support and improved functionality.',\n",
       " 'reasoning': \"The context focuses on analyzing competitors' tools (Source 1) and recommending features to address gaps in translation quality, editing capabilities, OCR support, and domain-specific adaptations (Sources 2–5). These sources collectively emphasize improving document translation tools for B2B/B2C markets.\",\n",
       " 'sources': [1, 2, 3, 4, 5],\n",
       " 'raw_response': \"RESPONSE:  \\nThe main topic is the evaluation and enhancement of document translation tools for multilingual support and improved functionality.  \\n\\nREASONING:  \\nThe context focuses on analyzing competitors' tools (Source 1) and recommending features to address gaps in translation quality, editing capabilities, OCR support, and domain-specific adaptations (Sources 2–5). These sources collectively emphasize improving document translation tools for B2B/B2C markets.  \\n\\nSOURCES:  \\n1, 2, 3, 4, 5\",\n",
       " 'source_documents': [Document(metadata={'source': 'Market Research Report_extracted_text.json', 'start_index': 149}, page_content='Introduction This market research report analyzes competitors offering document translation tools that support PDF, Word, Excel, and scanned images while preserving layout and formatting. The focus is on tools that handle Arabic, French, and English languages, catering to both B2B and B2C markets. The key features evaluated include layout preservation, Arabic support and quality, translation accuracy and speed, pricing model, and Optical Character Recognition (OCR) support. To assess these tools, a series of test cases were conducted for each language, including: 1. Text -based documents: Evaluating basic translation accuracy, layout preservation, handling of number lists, bullet points, and right -to-left (RTL) and left -to-right (LTR) conversions. 2. Scanned documents: Testing OCR performance, particularly for Arabic, and preservation of bullet points, number lists, and order. 3. Tables (as text): Checking if tables remain aligned and readable, with attention to merged cells and number formatting. 4. Tables (as images): Evaluating the same as above with the addition of OCR. 5. Scanned documents with stamps or signatures: Testing performance with logos and non - translatable elements'),\n",
       "  Document(metadata={'source': 'Market Research Report_extracted_text.json', 'start_index': 3115}, page_content=\"Based on the evaluation, several opportunities exist to enhance document translation tools to better serve B2B and B2C markets. The following recommended features aim to address ga ps identified in the tested tools and improve functionality, user experience, and translation quality: • Editing Capabilities 1. PDF Editing: Enable users to add text, shapes, images, and freehand annotations to PDFs, facilitating document customization and correction post -translation. 2. PDF Annotations: Provide tools to write, draw, and highlight directly on PDFs, enhancing collaboration and docu ment review processes. 3. Split PDF: Allow users to split a PDF into multiple PDFs, with each page saved as a separate file. Include advanced options, such as specifying page ranges or programmatic splitting (similar to Python's split() function), to offer fl exibility.\"),\n",
       "  Document(metadata={'source': 'Market Research Report_extracted_text.json', 'start_index': 5911}, page_content='• Process Modes 1. Professional Translation: The AI automatically selects the optimal style and format for the translation based on the do cument’s context, audience, and purpose. For example, legal documents would adopt a formal tone with precise terminology, while marketing materials might use a persuasive, audience -friendly style, ensuring contextually appropriate and high - quality translat ions. 2. Paraphrase: Rephrase text or specific sections of a document while preserving the original meaning. This mode is ideal for simplifying complex text, adapting content for different audiences, or avoiding repetitive phrasing, such as rephrasing a techn ical manual for non - expert readers . • Split -View Translation Interface Provide a split -screen interface displaying the original document on the left and the translated document on the right, with synchronized page -by-page scrolling similar to a PDF viewer. This feature enables users to compare, review, and edit translations in real time, enhancing accuracy and usability for both professional and casual users'),\n",
       "  Document(metadata={'source': 'Market Research Report_extracted_text.json', 'start_index': -1}, page_content='2. AI PDF Summarization: Provide automated summarization of PDF content, enabling users to quickly grasp key points without reading entire documents. 3. AI Question Generator: Generat e relevant questions based on PDF content, supporting educational, training, or analytical use cases. 4. AI Instructions: Allow users to input custom prompts or guidelines for the AI engine to follow during translation, ensuring translations align with specif ic requirements or preferences. 5. Domain -Specific Translation: Incorporate smart detection or a predefined list of domains (e.g., banking, accounting, law, physics) to enhance translation accuracy for specialized documents. 6. Tone Customization: Enable smart d etection or manual selection of tone (e.g., formal, friendly) to tailor translations to the intended audience or context.'),\n",
       "  Document(metadata={'source': 'Market Research Report_extracted_text.json', 'start_index': -1}, page_content='This feature enables users to compare, review, and edit translations in real time, enhancing accuracy and usability for both professional and casual users. These recommended features address critical gaps in current tools, such as limited editing capabilit ies, lack of flexible OCR options, insufficient support for domain -specific or tone - adjusted translations, absence of advanced translation modes, and the need for intuitive review interfaces. Implementing these enhancements could significantly improve the functionality and market competitiveness of document translation tools.')],\n",
       " 'source_texts': ['Introduction This market research report analyzes competitors offering document translation tools that support PDF, Word, Excel, and scanned images while preserving layout and formatting. The focus is on tools that handle Arabic, French, and English languages, catering to both B2B and B2C markets. The key features evaluated include layout preservation, Arabic support and quality, translation accuracy and speed, pricing model, and Optical Character Recognition (OCR) support. To assess these tools, a series of test cases were conducted for each language, including: 1. Text -based documents: Evaluating basic translation accuracy, layout preservation, handling of number lists, bullet points, and right -to-left (RTL) and left -to-right (LTR) conversions. 2. Scanned documents: Testing OCR performance, particularly for Arabic, and preservation of bullet points, number lists, and order. 3. Tables (as text): Checking if tables remain aligned and readable, with attention to merged cells and number formatting. 4. Tables (as images): Evaluating the same as above with the addition of OCR. 5. Scanned documents with stamps or signatures: Testing performance with logos and non - translatable elements',\n",
       "  \"Based on the evaluation, several opportunities exist to enhance document translation tools to better serve B2B and B2C markets. The following recommended features aim to address ga ps identified in the tested tools and improve functionality, user experience, and translation quality: • Editing Capabilities 1. PDF Editing: Enable users to add text, shapes, images, and freehand annotations to PDFs, facilitating document customization and correction post -translation. 2. PDF Annotations: Provide tools to write, draw, and highlight directly on PDFs, enhancing collaboration and docu ment review processes. 3. Split PDF: Allow users to split a PDF into multiple PDFs, with each page saved as a separate file. Include advanced options, such as specifying page ranges or programmatic splitting (similar to Python's split() function), to offer fl exibility.\",\n",
       "  '• Process Modes 1. Professional Translation: The AI automatically selects the optimal style and format for the translation based on the do cument’s context, audience, and purpose. For example, legal documents would adopt a formal tone with precise terminology, while marketing materials might use a persuasive, audience -friendly style, ensuring contextually appropriate and high - quality translat ions. 2. Paraphrase: Rephrase text or specific sections of a document while preserving the original meaning. This mode is ideal for simplifying complex text, adapting content for different audiences, or avoiding repetitive phrasing, such as rephrasing a techn ical manual for non - expert readers . • Split -View Translation Interface Provide a split -screen interface displaying the original document on the left and the translated document on the right, with synchronized page -by-page scrolling similar to a PDF viewer. This feature enables users to compare, review, and edit translations in real time, enhancing accuracy and usability for both professional and casual users',\n",
       "  '2. AI PDF Summarization: Provide automated summarization of PDF content, enabling users to quickly grasp key points without reading entire documents. 3. AI Question Generator: Generat e relevant questions based on PDF content, supporting educational, training, or analytical use cases. 4. AI Instructions: Allow users to input custom prompts or guidelines for the AI engine to follow during translation, ensuring translations align with specif ic requirements or preferences. 5. Domain -Specific Translation: Incorporate smart detection or a predefined list of domains (e.g., banking, accounting, law, physics) to enhance translation accuracy for specialized documents. 6. Tone Customization: Enable smart d etection or manual selection of tone (e.g., formal, friendly) to tailor translations to the intended audience or context.',\n",
       "  'This feature enables users to compare, review, and edit translations in real time, enhancing accuracy and usability for both professional and casual users. These recommended features address critical gaps in current tools, such as limited editing capabilit ies, lack of flexible OCR options, insufficient support for domain -specific or tone - adjusted translations, absence of advanced translation modes, and the need for intuitive review interfaces. Implementing these enhancements could significantly improve the functionality and market competitiveness of document translation tools.']}"
      ]
     },
     "execution_count": 42,
     "metadata": {},
     "output_type": "execute_result"
    }
   ],
   "source": [
    "pipeline.ask_question(\"What is the main topic?\")"
   ]
  },
  {
   "cell_type": "code",
   "execution_count": null,
   "id": "d5c3ac15",
   "metadata": {},
   "outputs": [],
   "source": []
  },
  {
   "cell_type": "code",
   "execution_count": null,
   "id": "d7c87385",
   "metadata": {},
   "outputs": [],
   "source": []
  },
  {
   "cell_type": "code",
   "execution_count": null,
   "id": "11d5a848",
   "metadata": {},
   "outputs": [],
   "source": []
  }
 ],
 "metadata": {
  "kernelspec": {
   "display_name": "Python 3",
   "language": "python",
   "name": "python3"
  },
  "language_info": {
   "codemirror_mode": {
    "name": "ipython",
    "version": 3
   },
   "file_extension": ".py",
   "mimetype": "text/x-python",
   "name": "python",
   "nbconvert_exporter": "python",
   "pygments_lexer": "ipython3",
   "version": "3.9.6"
  }
 },
 "nbformat": 4,
 "nbformat_minor": 5
}
